{
 "cells": [
  {
   "cell_type": "code",
   "execution_count": 24,
   "metadata": {
    "collapsed": true
   },
   "outputs": [],
   "source": [
    "# This Python 3 environment comes with many helpful analytics libraries installed\n",
    "# It is defined by the kaggle/python docker image: https://github.com/kaggle/docker-python\n",
    "# For example, here's several helpful packages to load in \n",
    "from IPython.display import display\n",
    "import numpy as np # linear algebra\n",
    "import pandas as pd # data processing, CSV file I/O (e.g. pd.read_csv)\n",
    "import matplotlib.pyplot as pl\n",
    "# Input data files are available in the \"../input/\" directory.\n",
    "# For example, running this (by clicking run or pressing Shift+Enter) will list the files in the input directory\n",
    "import xgboost as xgb\n",
    "from subprocess import check_output\n",
    "#print(check_output([\"ls\", \"../input\"]).decode(\"utf8\"))\n",
    "# Pretty display for notebooks\n",
    "%matplotlib inline\n",
    "\n",
    "# Any results you write to the current directory are saved as output."
   ]
  },
  {
   "cell_type": "code",
   "execution_count": 26,
   "metadata": {
    "collapsed": true
   },
   "outputs": [],
   "source": [
    "#print(features_raw[features_raw.child_on_acc_pre_school.notnull()].head(1))\n",
    "#print(features_raw.info())\n",
    "def col_convert(df):\n",
    "    columns_convert = df.select_dtypes(include=[object]).keys()\n",
    "    df[columns_convert]= df[columns_convert].apply(lambda x: pd.to_numeric(x.astype(str)\n",
    "                                                                          .str.replace(',','.'), errors='ignore'))\n",
    "    return df\n",
    "def replace_mfloor(x,floor):\n",
    "    if (np.isnan(x)) or( x == 0)or( x == 1):\n",
    "        return floor\n",
    "    else:\n",
    "        return x\n",
    "def replace_floor(x,mfloor):\n",
    "    if x > mfloor:\n",
    "        if 10 < x < 100:\n",
    "            return int(x / 10)\n",
    "        elif x > 100:\n",
    "            return int(x / 100)\n",
    "        else:\n",
    "            return mfloor       \n",
    "    else:\n",
    "        return x\n",
    "def replace_build(x):\n",
    "    if (np.isnan(x)) or( x == 0):\n",
    "        return -99\n",
    "    elif x == 20052009:\n",
    "        return 2007\n",
    "    elif x == 4965:\n",
    "        return 1965\n",
    "    elif x <= 20:\n",
    "        return 2000 + x\n",
    "    elif x < 100:\n",
    "        return 1900 + x\n",
    "    elif x < 220:\n",
    "        return 1800 + x\n",
    "    else:\n",
    "        return x\n",
    "def replace_with_median(x,median):\n",
    "    if (np.isnan(x)) or( x == 0)or( x == 1):\n",
    "        return median\n",
    "    else:\n",
    "        return x\n",
    "def fix_state(x):\n",
    "    if x ==33:\n",
    "        return 3\n",
    "    else:\n",
    "        return x\n",
    "def fill_median(df1,df2,numerical):\n",
    "    for f in numerical:\n",
    "        values = list(df1[f].values) + list(df2[f].values)\n",
    "        median = np.nanmedian(values)\n",
    "        #print(f,median)\n",
    "        df1[f] = df1[f].fillna(median)\n",
    "        df1[f] = df1[f].replace(0, median)\n",
    "        df2[f] = df2[f].fillna(median)\n",
    "        df2[f] = df2[f].replace(0, median)\n",
    "    return df1,df2\n"
   ]
  },
  {
   "cell_type": "code",
   "execution_count": 28,
   "metadata": {},
   "outputs": [
    {
     "data": {
      "text/html": [
       "<div>\n",
       "<style>\n",
       "    .dataframe thead tr:only-child th {\n",
       "        text-align: right;\n",
       "    }\n",
       "\n",
       "    .dataframe thead th {\n",
       "        text-align: left;\n",
       "    }\n",
       "\n",
       "    .dataframe tbody tr th {\n",
       "        vertical-align: top;\n",
       "    }\n",
       "</style>\n",
       "<table border=\"1\" class=\"dataframe\">\n",
       "  <thead>\n",
       "    <tr style=\"text-align: right;\">\n",
       "      <th></th>\n",
       "      <th>timestamp</th>\n",
       "      <th>full_sq</th>\n",
       "      <th>life_sq</th>\n",
       "      <th>floor</th>\n",
       "      <th>max_floor</th>\n",
       "      <th>material</th>\n",
       "      <th>build_year</th>\n",
       "      <th>num_room</th>\n",
       "      <th>kitch_sq</th>\n",
       "      <th>state</th>\n",
       "      <th>...</th>\n",
       "      <th>cafe_count_5000_price_1500</th>\n",
       "      <th>cafe_count_5000_price_2500</th>\n",
       "      <th>cafe_count_5000_price_4000</th>\n",
       "      <th>cafe_count_5000_price_high</th>\n",
       "      <th>big_church_count_5000</th>\n",
       "      <th>church_count_5000</th>\n",
       "      <th>mosque_count_5000</th>\n",
       "      <th>leisure_count_5000</th>\n",
       "      <th>sport_count_5000</th>\n",
       "      <th>market_count_5000</th>\n",
       "    </tr>\n",
       "    <tr>\n",
       "      <th>id</th>\n",
       "      <th></th>\n",
       "      <th></th>\n",
       "      <th></th>\n",
       "      <th></th>\n",
       "      <th></th>\n",
       "      <th></th>\n",
       "      <th></th>\n",
       "      <th></th>\n",
       "      <th></th>\n",
       "      <th></th>\n",
       "      <th></th>\n",
       "      <th></th>\n",
       "      <th></th>\n",
       "      <th></th>\n",
       "      <th></th>\n",
       "      <th></th>\n",
       "      <th></th>\n",
       "      <th></th>\n",
       "      <th></th>\n",
       "      <th></th>\n",
       "      <th></th>\n",
       "    </tr>\n",
       "  </thead>\n",
       "  <tbody>\n",
       "    <tr>\n",
       "      <th>1</th>\n",
       "      <td>2011-08-20</td>\n",
       "      <td>43</td>\n",
       "      <td>27.0</td>\n",
       "      <td>4.0</td>\n",
       "      <td>NaN</td>\n",
       "      <td>NaN</td>\n",
       "      <td>NaN</td>\n",
       "      <td>NaN</td>\n",
       "      <td>NaN</td>\n",
       "      <td>NaN</td>\n",
       "      <td>...</td>\n",
       "      <td>40</td>\n",
       "      <td>9</td>\n",
       "      <td>4</td>\n",
       "      <td>0</td>\n",
       "      <td>13</td>\n",
       "      <td>22</td>\n",
       "      <td>1</td>\n",
       "      <td>0</td>\n",
       "      <td>52</td>\n",
       "      <td>4</td>\n",
       "    </tr>\n",
       "    <tr>\n",
       "      <th>2</th>\n",
       "      <td>2011-08-23</td>\n",
       "      <td>34</td>\n",
       "      <td>19.0</td>\n",
       "      <td>3.0</td>\n",
       "      <td>NaN</td>\n",
       "      <td>NaN</td>\n",
       "      <td>NaN</td>\n",
       "      <td>NaN</td>\n",
       "      <td>NaN</td>\n",
       "      <td>NaN</td>\n",
       "      <td>...</td>\n",
       "      <td>36</td>\n",
       "      <td>15</td>\n",
       "      <td>3</td>\n",
       "      <td>0</td>\n",
       "      <td>15</td>\n",
       "      <td>29</td>\n",
       "      <td>1</td>\n",
       "      <td>10</td>\n",
       "      <td>66</td>\n",
       "      <td>14</td>\n",
       "    </tr>\n",
       "    <tr>\n",
       "      <th>3</th>\n",
       "      <td>2011-08-27</td>\n",
       "      <td>43</td>\n",
       "      <td>29.0</td>\n",
       "      <td>2.0</td>\n",
       "      <td>NaN</td>\n",
       "      <td>NaN</td>\n",
       "      <td>NaN</td>\n",
       "      <td>NaN</td>\n",
       "      <td>NaN</td>\n",
       "      <td>NaN</td>\n",
       "      <td>...</td>\n",
       "      <td>25</td>\n",
       "      <td>10</td>\n",
       "      <td>3</td>\n",
       "      <td>0</td>\n",
       "      <td>11</td>\n",
       "      <td>27</td>\n",
       "      <td>0</td>\n",
       "      <td>4</td>\n",
       "      <td>67</td>\n",
       "      <td>10</td>\n",
       "    </tr>\n",
       "    <tr>\n",
       "      <th>4</th>\n",
       "      <td>2011-09-01</td>\n",
       "      <td>89</td>\n",
       "      <td>50.0</td>\n",
       "      <td>9.0</td>\n",
       "      <td>NaN</td>\n",
       "      <td>NaN</td>\n",
       "      <td>NaN</td>\n",
       "      <td>NaN</td>\n",
       "      <td>NaN</td>\n",
       "      <td>NaN</td>\n",
       "      <td>...</td>\n",
       "      <td>15</td>\n",
       "      <td>11</td>\n",
       "      <td>2</td>\n",
       "      <td>1</td>\n",
       "      <td>4</td>\n",
       "      <td>4</td>\n",
       "      <td>0</td>\n",
       "      <td>0</td>\n",
       "      <td>26</td>\n",
       "      <td>3</td>\n",
       "    </tr>\n",
       "    <tr>\n",
       "      <th>5</th>\n",
       "      <td>2011-09-05</td>\n",
       "      <td>77</td>\n",
       "      <td>77.0</td>\n",
       "      <td>4.0</td>\n",
       "      <td>NaN</td>\n",
       "      <td>NaN</td>\n",
       "      <td>NaN</td>\n",
       "      <td>NaN</td>\n",
       "      <td>NaN</td>\n",
       "      <td>NaN</td>\n",
       "      <td>...</td>\n",
       "      <td>552</td>\n",
       "      <td>319</td>\n",
       "      <td>108</td>\n",
       "      <td>17</td>\n",
       "      <td>135</td>\n",
       "      <td>236</td>\n",
       "      <td>2</td>\n",
       "      <td>91</td>\n",
       "      <td>195</td>\n",
       "      <td>14</td>\n",
       "    </tr>\n",
       "  </tbody>\n",
       "</table>\n",
       "<p>5 rows × 290 columns</p>\n",
       "</div>"
      ],
      "text/plain": [
       "    timestamp  full_sq  life_sq  floor  max_floor  material  build_year  \\\n",
       "id                                                                        \n",
       "1  2011-08-20       43     27.0    4.0        NaN       NaN         NaN   \n",
       "2  2011-08-23       34     19.0    3.0        NaN       NaN         NaN   \n",
       "3  2011-08-27       43     29.0    2.0        NaN       NaN         NaN   \n",
       "4  2011-09-01       89     50.0    9.0        NaN       NaN         NaN   \n",
       "5  2011-09-05       77     77.0    4.0        NaN       NaN         NaN   \n",
       "\n",
       "    num_room  kitch_sq  state        ...         cafe_count_5000_price_1500  \\\n",
       "id                                   ...                                      \n",
       "1        NaN       NaN    NaN        ...                                 40   \n",
       "2        NaN       NaN    NaN        ...                                 36   \n",
       "3        NaN       NaN    NaN        ...                                 25   \n",
       "4        NaN       NaN    NaN        ...                                 15   \n",
       "5        NaN       NaN    NaN        ...                                552   \n",
       "\n",
       "   cafe_count_5000_price_2500  cafe_count_5000_price_4000  \\\n",
       "id                                                          \n",
       "1                           9                           4   \n",
       "2                          15                           3   \n",
       "3                          10                           3   \n",
       "4                          11                           2   \n",
       "5                         319                         108   \n",
       "\n",
       "    cafe_count_5000_price_high  big_church_count_5000  church_count_5000  \\\n",
       "id                                                                         \n",
       "1                            0                     13                 22   \n",
       "2                            0                     15                 29   \n",
       "3                            0                     11                 27   \n",
       "4                            1                      4                  4   \n",
       "5                           17                    135                236   \n",
       "\n",
       "    mosque_count_5000  leisure_count_5000  sport_count_5000  market_count_5000  \n",
       "id                                                                              \n",
       "1                   1                   0                52                  4  \n",
       "2                   1                  10                66                 14  \n",
       "3                   0                   4                67                 10  \n",
       "4                   0                   0                26                  3  \n",
       "5                   2                  91               195                 14  \n",
       "\n",
       "[5 rows x 290 columns]"
      ]
     },
     "metadata": {},
     "output_type": "display_data"
    }
   ],
   "source": [
    "data = pd.read_csv(\"train.csv\", parse_dates=['timestamp'], index_col ='id')\n",
    "prices = data['price_doc']\n",
    "train_data = data.drop(['price_doc'], axis =1)\n",
    "display(train_data.head())\n",
    "macros = pd.read_csv(\"macro.csv\",parse_dates=['timestamp'])\n",
    "#prepare test data:\n",
    "test_data = pd.read_csv(\"test.csv\", parse_dates=['timestamp'])\n",
    "id_test = test_data.id\n",
    "test_data.drop(['id'], axis =1, inplace = True)"
   ]
  },
  {
   "cell_type": "code",
   "execution_count": 30,
   "metadata": {
    "collapsed": true,
    "scrolled": false
   },
   "outputs": [],
   "source": [
    "macros_raw = col_convert(macros)\n",
    "macros_raw = macros_raw.replace('#!',-99)\n",
    "macros_raw['child_on_acc_pre_school'] = macros_raw['child_on_acc_pre_school'].replace(',','').astype(float)\n",
    "macros_raw['modern_education_share'] = macros_raw['modern_education_share'].astype(float)\n",
    "macros_raw['old_education_build_share'] = macros_raw['old_education_build_share'].astype(float)\n",
    "macros_raw = macros_raw.drop('timestamp',axis=1)\n",
    "macros_raw = macros_raw.fillna(0)\n",
    "macro_col =  pd.read_csv(\"macro_dropped.csv\")\n",
    "col_drop = list(macro_col['features'].values)\n",
    "macros_raw = macros_raw.drop(col_drop, axis = 1)"
   ]
  },
  {
   "cell_type": "code",
   "execution_count": 32,
   "metadata": {
    "collapsed": true
   },
   "outputs": [],
   "source": [
    "from sklearn.base import BaseEstimator, TransformerMixin\n",
    "from sklearn.preprocessing import Imputer\n",
    "from statsmodels.stats.outliers_influence import variance_inflation_factor\n",
    "\n",
    "class ReduceVIF(BaseEstimator, TransformerMixin):\n",
    "    def __init__(self, thresh=5.0, impute=True, impute_strategy='median'):\n",
    "        # values between 5 and 10 are \"okay\".\n",
    "        # Above 10 is too high and so should be removed.\n",
    "        self.thresh = thresh\n",
    "        \n",
    "        # The statsmodel function will fail with NaN values, as such we have to impute them.\n",
    "        # By default we impute using the median value.\n",
    "        # This imputation could be taken out and added as part of an sklearn Pipeline.\n",
    "        if impute:\n",
    "            self.imputer = Imputer(strategy=impute_strategy)\n",
    "\n",
    "    def fit(self, X, y=None):\n",
    "        print('ReduceVIF fit')\n",
    "        if hasattr(self, 'imputer'):\n",
    "            self.imputer.fit(X)\n",
    "        return self\n",
    "\n",
    "    def transform(self, X, y=None):\n",
    "        print('ReduceVIF transform')\n",
    "        columns = X.columns.tolist()\n",
    "        if hasattr(self, 'imputer'):\n",
    "            X = pd.DataFrame(self.imputer.transform(X), columns=columns)\n",
    "        return ReduceVIF.calculate_vif(X, self.thresh)\n",
    "\n",
    "    @staticmethod\n",
    "    def calculate_vif(X, thresh=5.0):\n",
    "        # Taken from https://stats.stackexchange.com/a/253620/53565 and modified\n",
    "        dropped=True\n",
    "        while dropped:\n",
    "            # Loop repeatedly until we find that all columns within our dataset\n",
    "            # have a VIF value we're happy with.\n",
    "            variables = X.columns\n",
    "            dropped=False\n",
    "            vif = []\n",
    "            new_vif = 0\n",
    "            for var in X.columns:\n",
    "                new_vif = variance_inflation_factor(X[variables].values, X.columns.get_loc(var))\n",
    "                vif.append(new_vif)\n",
    "                if np.isinf(new_vif):\n",
    "                    break\n",
    "            max_vif = max(vif)\n",
    "            if max_vif > thresh:\n",
    "                maxloc = vif.index(max_vif)\n",
    "                print('Dropping {} with vif= {}'.format(X.columns[maxloc],max_vif))\n",
    "                X = X.drop([X.columns.tolist()[maxloc]], axis=1)\n",
    "                dropped=True\n",
    "        return X"
   ]
  },
  {
   "cell_type": "code",
   "execution_count": 34,
   "metadata": {
    "collapsed": true
   },
   "outputs": [],
   "source": [
    "\n",
    "#transformer = ReduceVIF()\n",
    "#macros_raw = transformer.fit_transform(macros_raw, macros_raw.columns)\n",
    "#macros_raw.head()"
   ]
  },
  {
   "cell_type": "code",
   "execution_count": 36,
   "metadata": {
    "collapsed": true
   },
   "outputs": [],
   "source": [
    "macros_raw['timestamp'] = macros['timestamp']"
   ]
  },
  {
   "cell_type": "code",
   "execution_count": 38,
   "metadata": {},
   "outputs": [
    {
     "data": {
      "text/html": [
       "<div>\n",
       "<style>\n",
       "    .dataframe thead tr:only-child th {\n",
       "        text-align: right;\n",
       "    }\n",
       "\n",
       "    .dataframe thead th {\n",
       "        text-align: left;\n",
       "    }\n",
       "\n",
       "    .dataframe tbody tr th {\n",
       "        vertical-align: top;\n",
       "    }\n",
       "</style>\n",
       "<table border=\"1\" class=\"dataframe\">\n",
       "  <thead>\n",
       "    <tr style=\"text-align: right;\">\n",
       "      <th></th>\n",
       "      <th>timestamp</th>\n",
       "      <th>full_sq</th>\n",
       "      <th>life_sq</th>\n",
       "      <th>floor</th>\n",
       "      <th>max_floor</th>\n",
       "      <th>material</th>\n",
       "      <th>build_year</th>\n",
       "      <th>num_room</th>\n",
       "      <th>kitch_sq</th>\n",
       "      <th>state</th>\n",
       "      <th>...</th>\n",
       "      <th>leisure_count_5000</th>\n",
       "      <th>sport_count_5000</th>\n",
       "      <th>market_count_5000</th>\n",
       "      <th>gdp_quart_growth</th>\n",
       "      <th>balance_trade_growth</th>\n",
       "      <th>net_capital_export</th>\n",
       "      <th>deposits_growth</th>\n",
       "      <th>mortgage_value</th>\n",
       "      <th>mortgage_growth</th>\n",
       "      <th>students_reg_sports_share</th>\n",
       "    </tr>\n",
       "    <tr>\n",
       "      <th>id</th>\n",
       "      <th></th>\n",
       "      <th></th>\n",
       "      <th></th>\n",
       "      <th></th>\n",
       "      <th></th>\n",
       "      <th></th>\n",
       "      <th></th>\n",
       "      <th></th>\n",
       "      <th></th>\n",
       "      <th></th>\n",
       "      <th></th>\n",
       "      <th></th>\n",
       "      <th></th>\n",
       "      <th></th>\n",
       "      <th></th>\n",
       "      <th></th>\n",
       "      <th></th>\n",
       "      <th></th>\n",
       "      <th></th>\n",
       "      <th></th>\n",
       "      <th></th>\n",
       "    </tr>\n",
       "  </thead>\n",
       "  <tbody>\n",
       "    <tr>\n",
       "      <th>1</th>\n",
       "      <td>2011-08-20</td>\n",
       "      <td>43</td>\n",
       "      <td>27.0</td>\n",
       "      <td>4.0</td>\n",
       "      <td>NaN</td>\n",
       "      <td>NaN</td>\n",
       "      <td>NaN</td>\n",
       "      <td>NaN</td>\n",
       "      <td>NaN</td>\n",
       "      <td>NaN</td>\n",
       "      <td>...</td>\n",
       "      <td>0</td>\n",
       "      <td>52</td>\n",
       "      <td>4</td>\n",
       "      <td>3.3</td>\n",
       "      <td>10.1</td>\n",
       "      <td>0.301811</td>\n",
       "      <td>0.009740</td>\n",
       "      <td>323275</td>\n",
       "      <td>1.051914</td>\n",
       "      <td>64.12</td>\n",
       "    </tr>\n",
       "    <tr>\n",
       "      <th>2</th>\n",
       "      <td>2011-08-23</td>\n",
       "      <td>34</td>\n",
       "      <td>19.0</td>\n",
       "      <td>3.0</td>\n",
       "      <td>NaN</td>\n",
       "      <td>NaN</td>\n",
       "      <td>NaN</td>\n",
       "      <td>NaN</td>\n",
       "      <td>NaN</td>\n",
       "      <td>NaN</td>\n",
       "      <td>...</td>\n",
       "      <td>10</td>\n",
       "      <td>66</td>\n",
       "      <td>14</td>\n",
       "      <td>3.3</td>\n",
       "      <td>10.1</td>\n",
       "      <td>0.301811</td>\n",
       "      <td>0.009740</td>\n",
       "      <td>323275</td>\n",
       "      <td>1.051914</td>\n",
       "      <td>64.12</td>\n",
       "    </tr>\n",
       "    <tr>\n",
       "      <th>3</th>\n",
       "      <td>2011-08-27</td>\n",
       "      <td>43</td>\n",
       "      <td>29.0</td>\n",
       "      <td>2.0</td>\n",
       "      <td>NaN</td>\n",
       "      <td>NaN</td>\n",
       "      <td>NaN</td>\n",
       "      <td>NaN</td>\n",
       "      <td>NaN</td>\n",
       "      <td>NaN</td>\n",
       "      <td>...</td>\n",
       "      <td>4</td>\n",
       "      <td>67</td>\n",
       "      <td>10</td>\n",
       "      <td>3.3</td>\n",
       "      <td>10.1</td>\n",
       "      <td>0.301811</td>\n",
       "      <td>0.009740</td>\n",
       "      <td>323275</td>\n",
       "      <td>1.051914</td>\n",
       "      <td>64.12</td>\n",
       "    </tr>\n",
       "    <tr>\n",
       "      <th>4</th>\n",
       "      <td>2011-09-01</td>\n",
       "      <td>89</td>\n",
       "      <td>50.0</td>\n",
       "      <td>9.0</td>\n",
       "      <td>NaN</td>\n",
       "      <td>NaN</td>\n",
       "      <td>NaN</td>\n",
       "      <td>NaN</td>\n",
       "      <td>NaN</td>\n",
       "      <td>NaN</td>\n",
       "      <td>...</td>\n",
       "      <td>0</td>\n",
       "      <td>26</td>\n",
       "      <td>3</td>\n",
       "      <td>3.3</td>\n",
       "      <td>10.1</td>\n",
       "      <td>0.599709</td>\n",
       "      <td>0.009607</td>\n",
       "      <td>386388</td>\n",
       "      <td>1.049543</td>\n",
       "      <td>64.12</td>\n",
       "    </tr>\n",
       "    <tr>\n",
       "      <th>5</th>\n",
       "      <td>2011-09-05</td>\n",
       "      <td>77</td>\n",
       "      <td>77.0</td>\n",
       "      <td>4.0</td>\n",
       "      <td>NaN</td>\n",
       "      <td>NaN</td>\n",
       "      <td>NaN</td>\n",
       "      <td>NaN</td>\n",
       "      <td>NaN</td>\n",
       "      <td>NaN</td>\n",
       "      <td>...</td>\n",
       "      <td>91</td>\n",
       "      <td>195</td>\n",
       "      <td>14</td>\n",
       "      <td>3.3</td>\n",
       "      <td>10.1</td>\n",
       "      <td>0.599709</td>\n",
       "      <td>0.018590</td>\n",
       "      <td>386388</td>\n",
       "      <td>1.049543</td>\n",
       "      <td>64.12</td>\n",
       "    </tr>\n",
       "  </tbody>\n",
       "</table>\n",
       "<p>5 rows × 297 columns</p>\n",
       "</div>"
      ],
      "text/plain": [
       "    timestamp  full_sq  life_sq  floor  max_floor  material  build_year  \\\n",
       "id                                                                        \n",
       "1  2011-08-20       43     27.0    4.0        NaN       NaN         NaN   \n",
       "2  2011-08-23       34     19.0    3.0        NaN       NaN         NaN   \n",
       "3  2011-08-27       43     29.0    2.0        NaN       NaN         NaN   \n",
       "4  2011-09-01       89     50.0    9.0        NaN       NaN         NaN   \n",
       "5  2011-09-05       77     77.0    4.0        NaN       NaN         NaN   \n",
       "\n",
       "    num_room  kitch_sq  state            ...             leisure_count_5000  \\\n",
       "id                                       ...                                  \n",
       "1        NaN       NaN    NaN            ...                              0   \n",
       "2        NaN       NaN    NaN            ...                             10   \n",
       "3        NaN       NaN    NaN            ...                              4   \n",
       "4        NaN       NaN    NaN            ...                              0   \n",
       "5        NaN       NaN    NaN            ...                             91   \n",
       "\n",
       "   sport_count_5000  market_count_5000  gdp_quart_growth  \\\n",
       "id                                                         \n",
       "1                52                  4               3.3   \n",
       "2                66                 14               3.3   \n",
       "3                67                 10               3.3   \n",
       "4                26                  3               3.3   \n",
       "5               195                 14               3.3   \n",
       "\n",
       "    balance_trade_growth  net_capital_export  deposits_growth  mortgage_value  \\\n",
       "id                                                                              \n",
       "1                   10.1            0.301811         0.009740          323275   \n",
       "2                   10.1            0.301811         0.009740          323275   \n",
       "3                   10.1            0.301811         0.009740          323275   \n",
       "4                   10.1            0.599709         0.009607          386388   \n",
       "5                   10.1            0.599709         0.018590          386388   \n",
       "\n",
       "    mortgage_growth  students_reg_sports_share  \n",
       "id                                              \n",
       "1          1.051914                      64.12  \n",
       "2          1.051914                      64.12  \n",
       "3          1.051914                      64.12  \n",
       "4          1.049543                      64.12  \n",
       "5          1.049543                      64.12  \n",
       "\n",
       "[5 rows x 297 columns]"
      ]
     },
     "metadata": {},
     "output_type": "display_data"
    }
   ],
   "source": [
    "feature_full = train_data.reset_index().merge(macros_raw, on='timestamp' ,how=\"left\").set_index('id')\n",
    "test_features_raw = test_data.merge(macros_raw, on='timestamp', how='left')\n",
    "\n",
    "display(feature_full.head())"
   ]
  },
  {
   "cell_type": "code",
   "execution_count": 40,
   "metadata": {},
   "outputs": [
    {
     "data": {
      "text/plain": [
       "<matplotlib.axes._subplots.AxesSubplot at 0x2756508d400>"
      ]
     },
     "metadata": {},
     "output_type": "display_data"
    },
    {
     "data": {
      "image/png": "[encoded data removed]",
      "text/plain": [
       "<matplotlib.figure.Figure at 0x275650914e0>"
      ]
     },
     "metadata": {},
     "output_type": "display_data"
    }
   ],
   "source": [
    "bad_data = feature_full[['full_sq','life_sq','kitch_sq','max_floor','floor']]\n",
    "bad_data = bad_data.replace(1,0)\n",
    "\n",
    "bad_data['life'] = bad_data['full_sq'] - bad_data['life_sq']\n",
    "bad_data['kitchen'] = bad_data['full_sq'] - bad_data['kitch_sq']\n",
    "bad_data['lk'] = bad_data['life_sq'] - bad_data['kitch_sq']\n",
    "bad_data['fl'] = bad_data['max_floor'] - bad_data['floor']\n",
    "\n",
    "bad_data = bad_data.fillna(-1)\n",
    "matches = (bad_data['life'] <= 0) & (bad_data['kitchen'] <= 0 ) & (bad_data['lk'] < 0) & (bad_data['fl'] < 0)\n",
    "#display(bad_data.loc[matches.index[matches == True]])\n",
    "        \n",
    "#display(feature_full.loc[matches.index[matches == True]])\n",
    "index_drop = feature_full.loc[matches.index[matches == True]]\n",
    "display(prices.loc[index_drop.index].plot())"
   ]
  },
  {
   "cell_type": "code",
   "execution_count": 42,
   "metadata": {
    "scrolled": true
   },
   "outputs": [
    {
     "name": "stdout",
     "output_type": "stream",
     "text": [
      "0.625 0.125\n"
     ]
    }
   ],
   "source": [
    "features_raw = feature_full.drop(index_drop.index,errors = 'ignore')\n",
    "prices = prices.drop(index_drop.index,errors = 'ignore')\n",
    "full_sq_avg = np.nanmedian(features_raw['full_sq'])\n",
    "life_sq_avg =  np.nanmedian(features_raw['life_sq'])\n",
    "kitch_sq_avg = np.nanmedian(features_raw['kitch_sq'])\n",
    "life_ratio = life_sq_avg / full_sq_avg\n",
    "kitch_ratio = kitch_sq_avg / full_sq_avg\n",
    "print (life_ratio,kitch_ratio)"
   ]
  },
  {
   "cell_type": "code",
   "execution_count": 44,
   "metadata": {
    "collapsed": true
   },
   "outputs": [],
   "source": [
    "#fix training\n",
    "features_raw['full_sq']= features_raw.apply(lambda row: replace_with_median(row['full_sq'],full_sq_avg), axis=1)\n",
    "features_raw['life_sq']= features_raw.apply(lambda row: replace_with_median(row['life_sq'],life_sq_avg), axis=1)\n",
    "features_raw['kitch_sq']= features_raw.apply(lambda row: replace_with_median(row['kitch_sq'],kitch_sq_avg), axis=1)\n",
    "\n",
    "features_raw[['floor']] = features_raw[['floor']].fillna(value=0)\n",
    "features_raw['max_floor']= features_raw.apply(lambda row: replace_mfloor(row['max_floor'],row['floor']), axis=1)\n",
    "features_raw['floor']= features_raw.apply(lambda row: replace_floor(row['floor'],row['max_floor']), axis=1)\n",
    "features_raw['build_year'] = features_raw.apply(lambda row: replace_build(row['build_year']), axis=1)\n",
    "features_raw['build_age'] = 2020 - features_raw['build_year']\n",
    "features_raw['build_age'] = features_raw['build_age'].replace(2119,-99)\n",
    "features_raw['flor_prop'] =  (features_raw['floor'] + 1) / (features_raw['max_floor'] + 1)\n",
    "features_raw['state'] = features_raw.apply(lambda row: fix_state(row['state']), axis=1)\n",
    "features_raw[\"year\"] = features_raw[\"timestamp\"].dt.year\n",
    "features_raw[\"yearmonth\"] = features_raw[\"timestamp\"].dt.year*100 + features_raw[\"timestamp\"].dt.month\n",
    "\n",
    "#fix testing\n",
    "test_features_raw['full_sq']= test_features_raw.apply(lambda row: replace_with_median(row['full_sq'],full_sq_avg), axis=1)\n",
    "test_features_raw['life_sq']= test_features_raw.apply(lambda row: replace_with_median(row['life_sq'],life_sq_avg), axis=1)\n",
    "test_features_raw['kitch_sq']= test_features_raw.apply(lambda row: replace_with_median(row['kitch_sq'],kitch_sq_avg), axis=1)\n",
    "\n",
    "test_features_raw[['floor']] = test_features_raw[['floor']].fillna(value=0)\n",
    "test_features_raw['max_floor']= test_features_raw.apply(lambda row: replace_mfloor(row['max_floor'],row['floor']), axis=1)\n",
    "test_features_raw['floor']= test_features_raw.apply(lambda row: replace_floor(row['floor'],row['max_floor']), axis=1)\n",
    "test_features_raw['build_year'] = test_features_raw.apply(lambda row: replace_build(row['build_year']), axis=1)\n",
    "test_features_raw['build_age'] = 2020 - features_raw['build_year']\n",
    "test_features_raw['build_age'] = test_features_raw['build_age'].replace(2119,-99)\n",
    "test_features_raw['flor_prop'] =  (test_features_raw['floor'] +1) / (test_features_raw['max_floor'] + 1)\n",
    "test_features_raw['state'] = test_features_raw.apply(lambda row: fix_state(row['state']), axis=1)\n",
    "\n",
    "\n",
    "test_features_raw[\"year\"] = test_features_raw[\"timestamp\"].dt.year\n",
    "test_features_raw[\"yearmonth\"] = test_features_raw[\"timestamp\"].dt.year*100 + test_features_raw[\"timestamp\"].dt.month"
   ]
  },
  {
   "cell_type": "code",
   "execution_count": 46,
   "metadata": {},
   "outputs": [
    {
     "data": {
      "text/plain": [
       "array([ nan,   1.,   2.,   4.,   6.,   5.,   3.])"
      ]
     },
     "metadata": {},
     "output_type": "display_data"
    },
    {
     "data": {
      "text/plain": [
       "array([ nan,   3.,   1.,   2.,   4.])"
      ]
     },
     "metadata": {},
     "output_type": "display_data"
    }
   ],
   "source": [
    "display(features_raw['material'].unique() )\n",
    "display(features_raw['state'].unique() )\n",
    "features_raw.drop('timestamp',axis=1,inplace =True)\n",
    "test_features_raw.drop('timestamp',axis=1,inplace =True)"
   ]
  },
  {
   "cell_type": "code",
   "execution_count": 48,
   "metadata": {
    "collapsed": true
   },
   "outputs": [],
   "source": [
    "objects = list(features_raw.select_dtypes(include=['object']).columns)\n",
    "objects.remove('product_type')\n",
    "objects.remove('sub_area')\n",
    "#training \n",
    "features = col_convert(features_raw)\n",
    "features[objects] = features[objects].fillna(-99)\n",
    "features[objects] = features[objects].replace('nan',-99)\n",
    "features[['material','state']] = features[['material','state']].fillna(-99)\n",
    "features['ecology'] = features['ecology'].replace('no data',-99)\n",
    "\n",
    "#testing\n",
    "test_features = col_convert(test_features_raw)\n",
    "test_features[objects] = test_features[objects].fillna(-99)\n",
    "test_features[objects] = test_features[objects].replace('nan',-99)\n",
    "test_features[['material','state']] = test_features[['material','state']].fillna(-99)\n",
    "test_features['ecology'] = test_features['ecology'].replace('no data',-99)"
   ]
  },
  {
   "cell_type": "code",
   "execution_count": 50,
   "metadata": {
    "collapsed": true
   },
   "outputs": [],
   "source": [
    "#one hot encode these features:\n",
    "pt_cat = set(list(features['product_type'].values) + list(test_features['product_type']))\n",
    "\n",
    "features['product_type'] = features['product_type'].astype('category',categories= pt_cat)\n",
    "test_features['product_type'] = test_features['product_type'].astype('category',categories= pt_cat)\n",
    "\n",
    "train_dummy  = pd.get_dummies(features['product_type'])\n",
    "test_dummy  = pd.get_dummies(test_features['product_type'])\n",
    "\n",
    "features = features.join(train_dummy)\n",
    "features = features.drop(['product_type','nan'], axis =1)\n",
    "\n",
    "test_features = test_features.join(test_dummy)\n",
    "test_features = test_features.drop(['product_type','nan'] , axis =1)\n",
    "\n",
    "columns = features.columns\n",
    "test_columns = test_features.columns\n",
    "for i in range(len(columns)):\n",
    "    if columns[i] != test_columns[i]:\n",
    "        print ('error at training: {} testing: {}'.format(columns[i],test_columns[i]))"
   ]
  },
  {
   "cell_type": "code",
   "execution_count": 52,
   "metadata": {
    "collapsed": true
   },
   "outputs": [],
   "source": [
    "#one hot encode these features:\n",
    "sb_cat = set(list(features['sub_area'].values) + list(test_features['sub_area']))\n",
    "\n",
    "features['sub_area'] = features['sub_area'].astype('category',categories= sb_cat)\n",
    "test_features['sub_area'] = test_features['sub_area'].astype('category',categories= sb_cat)\n",
    "\n",
    "train_dummy  = pd.get_dummies(features['sub_area'])\n",
    "test_dummy  = pd.get_dummies(test_features['sub_area'])\n",
    "\n",
    "features = features.join(train_dummy)\n",
    "features = features.drop('sub_area', axis =1)\n",
    "\n",
    "test_features = test_features.join(test_dummy)\n",
    "test_features = test_features.drop('sub_area', axis =1)\n",
    "\n",
    "columns = features.columns\n",
    "test_columns = test_features.columns\n",
    "for i in range(len(columns)):\n",
    "    if columns[i] != test_columns[i]:\n",
    "        print ('error at training: {} testing: {}'.format(columns[i],test_columns[i]))"
   ]
  },
  {
   "cell_type": "code",
   "execution_count": 54,
   "metadata": {},
   "outputs": [
    {
     "name": "stdout",
     "output_type": "stream",
     "text": [
      "culture_objects_top_25\n",
      "thermal_power_plant_raion\n",
      "incineration_raion\n",
      "oil_chemistry_raion\n",
      "radiation_raion\n",
      "railroad_terminal_raion\n",
      "big_market_raion\n",
      "nuclear_reactor_raion\n",
      "detention_facility_raion\n",
      "water_1line\n",
      "big_road1_1line\n",
      "railroad_1line\n",
      "ecology\n",
      "446 total features after encoding.\n"
     ]
    }
   ],
   "source": [
    "#encode the 'features' data with label encored\n",
    "from sklearn.preprocessing import LabelEncoder\n",
    "\n",
    "features_encoded = features\n",
    "test_features_encoded = test_features\n",
    "# Encoding the variable\n",
    "for f in objects:\n",
    "    print(f)\n",
    "    lbl = LabelEncoder()\n",
    "    listing  = list(features[f].values.astype('str')) \n",
    "    listing.extend(list(test_features[f].values.astype('str')))\n",
    "    #print (set(listing))\n",
    "    lbl.fit(listing)\n",
    "    features_encoded[f] = lbl.transform(list(features[f].values.astype('str')))\n",
    "    test_features_encoded[f] = lbl.transform(list(test_features[f].values.astype('str')))\n",
    "# Print the number of features after one-hot encoding\n",
    "encoded = list(features_encoded.columns)\n",
    "print (\"{} total features after encoding.\".format(len(encoded)))"
   ]
  },
  {
   "cell_type": "code",
   "execution_count": 56,
   "metadata": {
    "collapsed": true
   },
   "outputs": [],
   "source": [
    "numerical = list(features_encoded.select_dtypes(include=['float64','int64']).keys())\n",
    "numerical.remove('material')\n",
    "numerical.remove('state')\n",
    "\n",
    "#features_encoded = features_encoded.fillna(-99)\n",
    "#test_features_encoded = test_features_encoded.fillna(-99)\n",
    "features_encoded , test_features_encoded = fill_median(features_encoded,test_features_encoded,numerical)\n",
    "#display(features_encoded[numerical].describe())\n",
    "numerical.remove('yearmonth')\n",
    "#features_encoded[numerical] = scaler.fit_transform(features_encoded[numerical])\n",
    "#test_features_encoded[numerical] = scaler.transform(test_features_encoded[numerical])"
   ]
  },
  {
   "cell_type": "code",
   "execution_count": 58,
   "metadata": {
    "collapsed": true
   },
   "outputs": [],
   "source": [
    "#dropped\n",
    "feat_col =  pd.read_csv(\"columns_dropped.csv\")\n",
    "col_drop = list(feat_col['features'].values)\n",
    "\n",
    "features_dropped = features_encoded[col_drop]\n",
    "test_features_dropped = test_features_encoded[col_drop]"
   ]
  },
  {
   "cell_type": "code",
   "execution_count": 60,
   "metadata": {
    "collapsed": true
   },
   "outputs": [],
   "source": [
    "#removed from training data\n",
    "#transformer = ReduceVIF()\n",
    "#best_features = transformer.fit_transform(features_encoded, features_encoded.columns)\n",
    "#best_features.head()\n",
    "#best_test_features = test_features_encoded[best_features.columns]"
   ]
  },
  {
   "cell_type": "code",
   "execution_count": 62,
   "metadata": {
    "collapsed": true
   },
   "outputs": [],
   "source": [
    "#save data \n",
    "import pickle\n",
    "#pickle.dump((best_features, prices), open('train_encoded.p', 'wb'))\n",
    "#pickle.dump((best_test_features), open('test_encoded.p', 'wb'))\n",
    "pickle.dump((features_encoded.drop(col_drop,axis=1), prices), open('train_encoded.p', 'wb'))\n",
    "pickle.dump((test_features_encoded.drop(col_drop,axis=1)), open('test_encoded.p', 'wb'))\n",
    "#import geopandas as gpd\n",
    "#geo_df = gpd.read_file('../data/external/Kaggle_SRHM/shp_mo_kag_SRHM')\n",
    "#geo_df['geometry'].plot()"
   ]
  },
  {
   "cell_type": "code",
   "execution_count": 64,
   "metadata": {
    "collapsed": true
   },
   "outputs": [],
   "source": [
    "# Load the Preprocessed data\n",
    "import pickle\n",
    "best_features, prices = pickle.load(open('train_encoded.p', mode='rb'))\n",
    "best_test_features = pickle.load(open('test_encoded.p', mode='rb'))\n",
    "\n",
    "columns = best_features.columns\n",
    "test_columns = best_test_features.columns\n",
    "for i in range(len(columns)):\n",
    "    if columns[i] != test_columns[i]:\n",
    "        print ('error at training: {} testing: {}'.format(columns[i],test_columns[i]))"
   ]
  },
  {
   "cell_type": "markdown",
   "metadata": {},
   "source": [
    "#features_encoded = features_encoded.fillna(-1)\n",
    "#test_features_encoded = test_features_encoded.fillna(-1)\n",
    "from sklearn.feature_selection import SelectKBest,f_regression\n",
    "kbest = SelectKBest(score_func=f_regression,k=100)\n",
    "best_features = kbest.fit_transform(features_encoded,prices)\n",
    "best_test_features = kbest.transform(test_features_encoded)"
   ]
  },
  {
   "cell_type": "markdown",
   "metadata": {},
   "source": [
    "#print(best_features)\n",
    "keep_features = np.sort(kbest.scores_)[::-1]\n",
    "\n",
    "keep_features = keep_features[np.where(kbest.scores_ > 1e-03 )]\n",
    "print (len(keep_features))"
   ]
  },
  {
   "cell_type": "code",
   "execution_count": 66,
   "metadata": {},
   "outputs": [
    {
     "data": {
      "text/plain": [
       "Dimension_1    0.8756\n",
       "Dimension_2    0.9486\n",
       "Dimension_3    1.0000\n",
       "Name: Explained Variance, dtype: float64"
      ]
     },
     "execution_count": 66,
     "metadata": {},
     "output_type": "execute_result"
    },
    {
     "data": {
      "image/png": "[encoded data removed]",
      "text/plain": [
       "<matplotlib.figure.Figure at 0x2755c9426a0>"
      ]
     },
     "metadata": {},
     "output_type": "display_data"
    }
   ],
   "source": [
    "#pca explanation\n",
    "def pca_results(good_data, pca, ind):\n",
    "    '''\n",
    "    Create a DataFrame of the PCA results\n",
    "    Includes dimension feature weights and explained variance\n",
    "    Visualizes the PCA results\n",
    "    '''\n",
    "\n",
    "    # Dimension indexing\n",
    "    dimensions = ['Dimension_{}'.format(i+ind) for i in range(1,len(pca.components_)+1)]\n",
    "\n",
    "    # PCA components\n",
    "    components = pd.DataFrame(np.round(pca.components_, 4), columns = good_data.keys())\n",
    "    components.index = dimensions\n",
    "\n",
    "    # PCA explained variance\n",
    "    ratios = pca.explained_variance_ratio_.reshape(len(pca.components_), 1)\n",
    "    variance_ratios = pd.DataFrame(np.round(ratios, 4), columns = ['Explained Variance'])\n",
    "    variance_ratios.index = dimensions\n",
    "\n",
    "    # Create a bar plot visualization\n",
    "    fig, ax = pl.subplots(figsize = (12,4))\n",
    "\n",
    "    # Plot the feature weights as a function of the components\n",
    "    components.plot(ax = ax, kind = 'bar', legend = False);\n",
    "    ax.set_ylabel(\"Feature Weights\")\n",
    "    ax.set_xticklabels(dimensions, rotation=0)\n",
    "\n",
    "    # Display the explained variance ratios\n",
    "    for i, ev in enumerate(pca.explained_variance_ratio_):\n",
    "        ax.text(i-0.40, ax.get_ylim()[1] + 0.05, \"Explained Variance\\n          %.4f\"%(ev))\n",
    "\n",
    "    # Return a concatenated DataFrame\n",
    "    return pd.concat([variance_ratios, components], axis = 1)\n",
    "\n",
    "from sklearn.decomposition import PCA\n",
    "from sklearn.feature_selection import SelectKBest\n",
    "\n",
    "pca = PCA(n_components=3,random_state=33).fit(best_features)\n",
    "\n",
    "pca_result = pca_results(best_features,pca,0)\n",
    "\n",
    "pca_result['Explained Variance'].cumsum()"
   ]
  },
  {
   "cell_type": "code",
   "execution_count": 68,
   "metadata": {},
   "outputs": [
    {
     "name": "stderr",
     "output_type": "stream",
     "text": [
      "C:\\Users\\andre\\Anaconda3\\lib\\site-packages\\sklearn\\feature_selection\\univariate_selection.py:114: RuntimeWarning: divide by zero encountered in true_divide\n",
      "  f = msb / msw\n"
     ]
    },
    {
     "data": {
      "text/plain": [
       "Dimension_1    0.5901\n",
       "Dimension_2    0.9465\n",
       "Dimension_3    1.0000\n",
       "Name: Explained Variance, dtype: float64"
      ]
     },
     "execution_count": 68,
     "metadata": {},
     "output_type": "execute_result"
    },
    {
     "data": {
      "image/png": "[encoded data removed]",
      "text/plain": [
       "<matplotlib.figure.Figure at 0x2755c833f98>"
      ]
     },
     "metadata": {},
     "output_type": "display_data"
    }
   ],
   "source": [
    "#train_prices = np.log1p(prices)\n",
    "train_prices = prices\n",
    "kbest = SelectKBest(k = 19 )\n",
    "kfeat = kbest.fit_transform(best_features, train_prices)\n",
    "kfeat_test = kbest.transform(best_test_features)\n",
    "pca = PCA(n_components=3,random_state=33).fit(kfeat)\n",
    "\n",
    "kbest_col = best_features.columns[kbest.get_support()].tolist()\n",
    "\n",
    "pca_result = pca_results(best_features[kbest_col],pca,0)\n",
    "\n",
    "top_20_pca = pd.DataFrame(pca.transform(kfeat), columns = pca_result.index, index=best_features.index)\n",
    "top_20_pca_test = pd.DataFrame(pca.transform(kfeat_test), columns = pca_result.index)\n",
    "pca_result['Explained Variance'].cumsum()"
   ]
  },
  {
   "cell_type": "code",
   "execution_count": 70,
   "metadata": {},
   "outputs": [
    {
     "data": {
      "text/plain": [
       "Dimension_4    0.8756\n",
       "Dimension_5    0.9486\n",
       "Dimension_6    1.0000\n",
       "Name: Explained Variance, dtype: float64"
      ]
     },
     "execution_count": 70,
     "metadata": {},
     "output_type": "execute_result"
    },
    {
     "data": {
      "image/png": "[encoded data removed]",
      "text/plain": [
       "<matplotlib.figure.Figure at 0x2755c6ff358>"
      ]
     },
     "metadata": {},
     "output_type": "display_data"
    }
   ],
   "source": [
    "pca = PCA(n_components=3,random_state=33).fit(best_features.drop(kbest_col, axis =1))\n",
    "\n",
    "pca_result = pca_results(best_features.drop(kbest_col, axis =1),pca,3)\n",
    "\n",
    "kept_pca = pd.DataFrame(pca.transform(best_features.drop(kbest_col, axis =1)), columns = pca_result.index, index=best_features.index)\n",
    "kept_pca_test = pd.DataFrame(pca.transform(best_test_features.drop(kbest_col, axis =1)), columns = pca_result.index)\n",
    "pca_result['Explained Variance'].cumsum()"
   ]
  },
  {
   "cell_type": "code",
   "execution_count": 72,
   "metadata": {},
   "outputs": [
    {
     "data": {
      "text/plain": [
       "Dimension_7     0.9795\n",
       "Dimension_8     0.9971\n",
       "Dimension_9     0.9983\n",
       "Dimension_10    0.9989\n",
       "Dimension_11    0.9993\n",
       "Dimension_12    0.9996\n",
       "Dimension_13    0.9998\n",
       "Dimension_14    0.9999\n",
       "Dimension_15    1.0000\n",
       "Name: Explained Variance, dtype: float64"
      ]
     },
     "execution_count": 72,
     "metadata": {},
     "output_type": "execute_result"
    },
    {
     "data": {
      "image/png": "[encoded data removed]",
      "text/plain": [
       "<matplotlib.figure.Figure at 0x2755c7c2860>"
      ]
     },
     "metadata": {},
     "output_type": "display_data"
    }
   ],
   "source": [
    "pca = PCA(n_components=9,random_state=33).fit(features_dropped)\n",
    "\n",
    "pca_result = pca_results(features_dropped,pca,6)\n",
    "\n",
    "pca_features_dropped = pd.DataFrame(pca.transform(features_dropped), columns = pca_result.index, index = features_dropped.index)\n",
    "pca_test_features_dropped = pd.DataFrame(pca.transform(test_features_dropped), columns = pca_result.index)\n",
    "\n",
    "pca_result['Explained Variance'].cumsum()"
   ]
  },
  {
   "cell_type": "code",
   "execution_count": 179,
   "metadata": {
    "collapsed": true
   },
   "outputs": [],
   "source": [
    "#from sklearn.pipeline import FeatureUnion\n",
    "\n",
    "# Build estimator from PCA and Univariate selection:\n",
    "from sklearn.feature_selection import SelectPercentile,f_regression\n",
    "\n",
    "percent = SelectPercentile(score_func=f_regression, percentile=1.5).fit(best_features,train_prices)\n",
    "\n",
    "train_percentile = pd.DataFrame(percent.transform(best_features),columns =best_features.columns[percent.get_support()],index = best_features.index)\n",
    "# Use combined features to transform dataset:\n",
    "\n",
    "X_features = train_percentile.join(pca_features_dropped, rsuffix='pca_dropped')\n",
    "\n",
    "X_features = X_features.join(top_20_pca, rsuffix='pca_top')\n",
    "\n",
    "X_features = X_features.join(kept_pca, rsuffix='pca_kept')\n",
    "\n",
    "#ordering columns\n",
    "col_order = X_features.columns.tolist()\n",
    "col_order = sorted(col_order)\n",
    "X_features = X_features[col_order]\n",
    "\n",
    "\n",
    "#X_features = X_features[col_order]\n",
    "#display (X_features.head())\n",
    "\n",
    "test_percentile = pd.DataFrame(percent.transform(best_test_features),columns = best_test_features.columns[percent.get_support()])\n",
    "    \n",
    "submit_features = test_percentile.join(pca_test_features_dropped, rsuffix='pca_dropped')\n",
    "\n",
    "submit_features = submit_features.join(top_20_pca_test, rsuffix='pca_top')\n",
    "\n",
    "submit_features = submit_features.join(kept_pca_test, rsuffix='pca_kept')\n",
    "\n",
    "#ordering columns\n",
    "submit_features = submit_features[col_order]\n",
    "#display (submit_features.head())"
   ]
  },
  {
   "cell_type": "code",
   "execution_count": 180,
   "metadata": {
    "collapsed": true
   },
   "outputs": [],
   "source": [
    "columns = X_features.columns\n",
    "test_columns = submit_features.columns\n",
    "for i in range(len(columns)):\n",
    "    if columns[i] != test_columns[i]:\n",
    "        print ('error at training: {} testing: {}'.format(columns[i],test_columns[i]))"
   ]
  },
  {
   "cell_type": "code",
   "execution_count": 192,
   "metadata": {},
   "outputs": [],
   "source": [
    "from sklearn.neighbors import KNeighborsRegressor\n",
    "from sklearn.svm import SVR\n",
    "from sklearn.preprocessing import StandardScaler\n",
    "\n",
    "Kr = KNeighborsRegressor()\n",
    "\n",
    "from sklearn.pipeline import Pipeline\n",
    "\n",
    "scaler = StandardScaler()\n",
    "from sklearn.linear_model import Ridge\n",
    "ridge = Ridge()\n",
    "scalerridge = Pipeline([('scaler', scaler), ('ridge', ridge)])\n",
    "\n",
    "scalerKr = Pipeline([('scaler', scaler), ('Kr', Kr)])\n",
    "\n",
    "scalersvm = Pipeline([('scaler', scaler), ('lin', SVR(kernel='rbf'))])\n",
    "\n",
    "scalerKr = scalerKr.fit(X_features,train_prices)\n",
    "\n",
    "kr_train = pd.DataFrame(scalerKr.predict(X_features), columns = ['knn'], index = X_features.index)\n",
    "#print(X_train.shape, kr_train.shape)\n",
    "X_train = X_features.join(kr_train)\n",
    "\n",
    "kr_test = pd.DataFrame(scalerKr.predict(submit_features), columns = ['knn'], index = submit_features.index)\n",
    "Xtest1 = submit_features.join(kr_test)\n",
    "\n",
    "scalersvm = scalersvm.fit(X_features,train_prices)\n",
    "\n",
    "svm_train = pd.DataFrame(scalersvm.predict(X_features), columns = ['svm'], index = X_features.index)\n",
    "#print(X_train.shape, svm_train.shape)\n",
    "X_train = X_train.join(svm_train )\n",
    "\n",
    "svm_test = pd.DataFrame(scalersvm.predict(submit_features), columns = ['svm'], index = submit_features.index)\n",
    "Xtest1 = Xtest1.join(svm_test )\n",
    "\n",
    "scalerridge = scalerridge.fit(X_features,train_prices)\n",
    "\n",
    "ridge_train = pd.DataFrame(scalerridge.predict(X_features), columns = ['ridge'], index = X_features.index)\n",
    "#print(X_train.shape, svm_train.shape)\n",
    "X_train = X_train.join(ridge_train )\n",
    "\n",
    "ridge_test = pd.DataFrame(scalerridge.predict(submit_features), columns = ['ridge'], index = submit_features.index)\n",
    "Xtest1 = Xtest1.join(ridge_test)\n",
    "#display (X_train1.head())"
   ]
  },
  {
   "cell_type": "code",
   "execution_count": 193,
   "metadata": {},
   "outputs": [
    {
     "name": "stdout",
     "output_type": "stream",
     "text": [
      "(27245, 21) (27245,)\n",
      "(2819, 21) (2819,)\n",
      "(10, 21) (10,)\n"
     ]
    }
   ],
   "source": [
    "import random\n",
    "val_time = 201501\n",
    "\n",
    "columns = X_train  \n",
    "#[features_encoded.columns[kbest.get_support()]]\n",
    "test_columns = Xtest1.columns\n",
    "#[test_features_encoded.columns[kbest.get_support()]]\n",
    "display()\n",
    "#columns = features_keep\n",
    "#test_columns = features_keep\n",
    "\n",
    "df_temporal = X_train.join(features_raw.yearmonth, how = 'inner')\n",
    "\n",
    "\n",
    "#dev_indices = np.where(features_raw[\"yearmonth\"]<= val_time)\n",
    "val_indices = np.where(df_temporal[\"yearmonth\"] > val_time)\n",
    "\n",
    "\n",
    "df_eval = feature_full.merge(X_train, how = 'inner', left_index =True, right_index =True)\n",
    "df_eval = df_eval.dropna(axis=0, how='any')\n",
    "eval_index = random.sample(set(df_eval.index),10)\n",
    "\n",
    "x_eval_set  = X_train.loc[eval_index]\n",
    "y_eval_set = train_prices.loc[eval_index]\n",
    "\n",
    "\n",
    "dev_X = X_train.drop(eval_index)\n",
    "dev_y = train_prices.drop(eval_index)\n",
    "\n",
    "\n",
    "val_X = X_train.iloc[val_indices]\n",
    "val_y = train_prices.iloc[val_indices]\n",
    "\n",
    "\n",
    "\n",
    "\n",
    "print(dev_X.shape, dev_y.shape)\n",
    "print(val_X.shape, val_y.shape)\n",
    "print(x_eval_set.shape, y_eval_set.shape)"
   ]
  },
  {
   "cell_type": "code",
   "execution_count": 183,
   "metadata": {},
   "outputs": [
    {
     "name": "stdout",
     "output_type": "stream",
     "text": [
      "(25814, 20) (25814,)\n"
     ]
    }
   ],
   "source": [
    "def sample_vals(df, price_value, ratio, condition, seed):\n",
    "    indices = condition(df.price_doc, price_value) & (df.product_type == 'Investment') & (df.timestamp < '2015-01-01') & (df.timestamp>='2011-10-01')\n",
    "    df_resampled = df.loc[indices].sample(frac=ratio, random_state=seed)\n",
    "    df_remaining = df.loc[~indices]\n",
    "    df_new = pd.concat([df_resampled, df_remaining], axis=0)\n",
    "    return df_new\n",
    "\n",
    "from operator import eq, le\n",
    "\n",
    "timedf = feature_full[['timestamp', 'product_type']]\n",
    "\n",
    "trainsub = X_train.join(timedf, how = 'inner')\n",
    "\n",
    "train = trainsub.join(prices, how='inner')\n",
    "\n",
    "train = sample_vals(train, 1000000, 0.1, le, seed=1)\n",
    "train = sample_vals(train, 2000000, 0.3, eq, seed=1)\n",
    "train = sample_vals(train, 3000000, 0.5, eq, seed=1)\n",
    "\n",
    "x_val = train.drop(['timestamp','product_type','price_doc'], axis =1)\n",
    "y_val = np.log1p(train.price_doc)\n",
    "                   \n",
    "\n",
    "print(x_val.shape, y_val.shape)"
   ]
  },
  {
   "cell_type": "code",
   "execution_count": 184,
   "metadata": {
    "collapsed": true
   },
   "outputs": [],
   "source": [
    "#optimising mode\n",
    "xgb_params = {\n",
    "    'eta': 0.02,\n",
    "    'max_depth': 5,\n",
    "    'subsample': 0.7,\n",
    "    'colsample_bytree': 0.47,\n",
    "    'objective': 'reg:linear',\n",
    "    'lambda' : 0.1,\n",
    "    'alpha' : 0.01,\n",
    "   # 'eval_metric': 'rmse',\n",
    "    'silent': 1,\n",
    "    'min_child_weight' : 7,\n",
    "    'seed' :33\n",
    "}\n",
    "from sklearn.metrics import make_scorer,mean_squared_error\n",
    "def RMSLE(ypred,Y):\n",
    "    labels = Y.get_label()\n",
    "    return 'error',np.sqrt(mean_squared_error(np.log1p(labels), np.log1p(ypred)))\n",
    "                   \n",
    "scoring = make_scorer(RMSLE)"
   ]
  },
  {
   "cell_type": "code",
   "execution_count": 194,
   "metadata": {},
   "outputs": [],
   "source": [
    "xgtrain = xgb.DMatrix(dev_X, dev_y,  feature_names =dev_X.columns, missing = -99)\n",
    "xgtest = xgb.DMatrix(val_X, val_y, feature_names=val_X.columns, missing = -99)\n",
    "xgval = xgb.DMatrix(x_val, y_val, feature_names=x_val.columns, missing = -99)\n",
    "xgeval =  xgb.DMatrix(x_eval_set, y_eval_set, feature_names=x_eval_set.columns, missing = -99)\n",
    "\n",
    "watchlist = [ (xgtest,'temporal'),(xgeval, 'validation') ]\n",
    "xgall = xgb.DMatrix(X_train,train_prices, feature_names = X_train.columns, missing = -99)\n",
    "xg_submit = xgb.DMatrix(Xtest1,feature_names = Xtest1.columns, missing = -99 )"
   ]
  },
  {
   "cell_type": "code",
   "execution_count": 195,
   "metadata": {},
   "outputs": [
    {
     "name": "stdout",
     "output_type": "stream",
     "text": [
      "[0]\ttemporal-error:3.93554\tvalidation-error:3.72818\n",
      "[50]\ttemporal-error:0.574783\tvalidation-error:0.829979\n",
      "[100]\ttemporal-error:0.393816\tvalidation-error:0.819148\n",
      "[150]\ttemporal-error:0.367475\tvalidation-error:0.815572\n",
      "[200]\ttemporal-error:0.359794\tvalidation-error:0.78742\n",
      "[250]\ttemporal-error:0.356005\tvalidation-error:0.759189\n",
      "[300]\ttemporal-error:0.354118\tvalidation-error:0.741623\n",
      "[350]\ttemporal-error:0.352912\tvalidation-error:0.735234\n",
      "[400]\ttemporal-error:0.351632\tvalidation-error:0.727365\n",
      "[450]\ttemporal-error:0.350667\tvalidation-error:0.72172\n",
      "[500]\ttemporal-error:0.349842\tvalidation-error:0.718982\n",
      "[550]\ttemporal-error:0.349117\tvalidation-error:0.713286\n",
      "[600]\ttemporal-error:0.348609\tvalidation-error:0.710406\n",
      "[650]\ttemporal-error:0.347804\tvalidation-error:0.705902\n",
      "[700]\ttemporal-error:0.347044\tvalidation-error:0.702159\n",
      "[750]\ttemporal-error:0.346423\tvalidation-error:0.698498\n",
      "[800]\ttemporal-error:0.345481\tvalidation-error:0.694764\n",
      "[850]\ttemporal-error:0.344744\tvalidation-error:0.691198\n",
      "[900]\ttemporal-error:0.343846\tvalidation-error:0.688547\n",
      "[950]\ttemporal-error:0.343019\tvalidation-error:0.684097\n",
      "[1000]\ttemporal-error:0.342124\tvalidation-error:0.677202\n",
      "[1050]\ttemporal-error:0.341477\tvalidation-error:0.673916\n",
      "[1100]\ttemporal-error:0.340564\tvalidation-error:0.673369\n",
      "[1150]\ttemporal-error:0.340043\tvalidation-error:0.671583\n",
      "[1200]\ttemporal-error:0.339414\tvalidation-error:0.670093\n"
     ]
    }
   ],
   "source": [
    "num_rounds = 1250\n",
    "model = xgb.train(xgb_params, xgall, num_rounds, watchlist,feval =RMSLE, maximize=False,  verbose_eval=50)"
   ]
  },
  {
   "cell_type": "code",
   "execution_count": 187,
   "metadata": {},
   "outputs": [
    {
     "name": "stdout",
     "output_type": "stream",
     "text": [
      "[0]\ttrain-error:3.84804+0.00205736\ttest-error:3.84853+0.00970161\n",
      "[50]\ttrain-error:0.578898+0.00189928\ttest-error:0.582301+0.00423923\n",
      "[100]\ttrain-error:0.460323+0.00241009\ttest-error:0.46652+0.00907292\n",
      "[150]\ttrain-error:0.454399+0.00281835\ttest-error:0.462436+0.00987021\n",
      "[200]\ttrain-error:0.454116+0.00294033\ttest-error:0.463548+0.0102726\n",
      "[250]\ttrain-error:0.453+0.00290288\ttest-error:0.46368+0.0104303\n"
     ]
    },
    {
     "data": {
      "text/plain": [
       "<matplotlib.axes._subplots.AxesSubplot at 0x2750729fe10>"
      ]
     },
     "execution_count": 187,
     "metadata": {},
     "output_type": "execute_result"
    },
    {
     "data": {
      "image/png": "[encoded data removed]",
      "text/plain": [
       "<matplotlib.figure.Figure at 0x27507292780>"
      ]
     },
     "metadata": {},
     "output_type": "display_data"
    }
   ],
   "source": [
    "cv_output = xgb.cv(xgb_params,xgall, num_boost_round=2000,nfold=4,feval =RMSLE, maximize=False, \n",
    "                   early_stopping_rounds=150, verbose_eval=50, show_stdv=True, seed=33)\n",
    "cv_output[['train-error-mean', 'test-error-mean']].plot()"
   ]
  },
  {
   "cell_type": "code",
   "execution_count": 189,
   "metadata": {},
   "outputs": [
    {
     "name": "stdout",
     "output_type": "stream",
     "text": [
      "142\n"
     ]
    }
   ],
   "source": [
    "rounds = int(len(cv_output.index) * 1.05)\n",
    "print(rounds)"
   ]
  },
  {
   "cell_type": "code",
   "execution_count": null,
   "metadata": {
    "collapsed": true
   },
   "outputs": [],
   "source": [
    "model = xgb.train(xgb_params, xgall, num_boost_round=rounds)"
   ]
  },
  {
   "cell_type": "code",
   "execution_count": 196,
   "metadata": {},
   "outputs": [
    {
     "data": {
      "text/plain": [
       "<matplotlib.axes._subplots.AxesSubplot at 0x2755c7501d0>"
      ]
     },
     "execution_count": 196,
     "metadata": {},
     "output_type": "execute_result"
    },
    {
     "data": {
      "image/png": "[encoded data removed]",
      "text/plain": [
       "<matplotlib.figure.Figure at 0x27564ffce48>"
      ]
     },
     "metadata": {},
     "output_type": "display_data"
    }
   ],
   "source": [
    "fig, ax = pl.subplots(1, 1, figsize=(16, 16))\n",
    "xgb.plot_importance(model,  height=0.5, ax=ax)"
   ]
  },
  {
   "cell_type": "code",
   "execution_count": null,
   "metadata": {
    "collapsed": true
   },
   "outputs": [],
   "source": [
    "from mlxtend.regressor import StackingRegressor\n",
    "from sklearn.neighbors import KNeighborsRegressor\n",
    "from sklearn.linear_model import Ridge, LinearRegression\n",
    "from sklearn.svm import SVR\n",
    "from sklearn.preprocessing import StandardScaler\n",
    "from xgboost import XGBRegressor\n",
    "from sklearn.tree import DecisionTreeRegressor\n",
    "print('Build a model..')\n",
    "Kr = KNeighborsRegressor()\n",
    "\n",
    "xgbreg = XGBRegressor(max_depth = 5,min_child_weight=7,subsample= 0.87,\n",
    "                                    colsample_bytree =0.47,learning_rate = 0.2,n_estimators =1200,\n",
    "                                    missing = -99, seed =33)\n",
    "\n",
    "from sklearn.pipeline import Pipeline\n",
    "\n",
    "scaler = StandardScaler()\n",
    "\n",
    "\n",
    "scalerKr = Pipeline([('scaler', scaler), ('Kr', Kr)])\n",
    "\n",
    "scalersvm = Pipeline([('scaler', scaler), ('lin', SVR(kernel='rbf'))])\n",
    "\n",
    "svr_rbf = SVR(kernel='rbf')\n",
    "\n",
    "stregr = StackingRegressor(regressors=[xgbreg, scalersvm], \n",
    "                           meta_regressor=svr_rbf, verbose=1)"
   ]
  },
  {
   "cell_type": "code",
   "execution_count": null,
   "metadata": {
    "collapsed": true
   },
   "outputs": [],
   "source": [
    "# Training the stacking classifier\n",
    "print('fit a model..')\n",
    "#stregr.fit(X_train, train_prices)"
   ]
  },
  {
   "cell_type": "code",
   "execution_count": null,
   "metadata": {
    "collapsed": true
   },
   "outputs": [],
   "source": [
    "from sklearn.model_selection import cross_val_score, KFold,train_test_split\n",
    "\n",
    "outer_cv = KFold(n_splits=5, shuffle=True, random_state=33)\n",
    "\n",
    "\n",
    "\n",
    "Xtrain, Xtest, ytrain, ytest = train_test_split(X_train, train_prices,test_size=0.3, random_state=33)\n",
    "\n",
    "Xtest = pd.DataFrame(Xtest, columns = X_train.columns)\n",
    "ytest = pd.DataFrame(ytest, columns =['price_doc'])\n",
    "Xtest = Xtest.join(ytest)\n",
    "\n",
    "Xtest = Xtest.sort_values('price_doc')\n",
    "ytest = Xtest.price_doc\n",
    "Xtest = Xtest.drop('price_doc', axis=1)"
   ]
  },
  {
   "cell_type": "code",
   "execution_count": null,
   "metadata": {},
   "outputs": [],
   "source": [
    "#xgb grid search\n",
    "from sklearn import cross_validation, metrics   #Additional scklearn functions\n",
    "from sklearn.grid_search import GridSearchCV  \n",
    "from sklearn.model_selection import cross_val_score, KFold,train_test_split\n",
    "\n",
    "outer_cv = KFold(n_splits=3, shuffle=True, random_state=33)\n",
    "\n",
    "svm_param = {'C': [1, 10, 100, 1000],\n",
    "            'gamma': [0.001, 0.0001]}\n",
    "\n",
    "gsearch1 = GridSearchCV(estimator = scalersvm,param_grid = svm_param,\n",
    "                        scoring= scoring, n_jobs= -1,iid=False, cv=4)\n",
    "\n",
    "nested_score = cross_val_score(gsearch1, X_train,train_prices, cv=outer_cv)\n",
    "\n",
    "gsearch1.grid_scores_, gsearch1.best_params_, gsearch1.best_score_"
   ]
  },
  {
   "cell_type": "code",
   "execution_count": null,
   "metadata": {
    "collapsed": true
   },
   "outputs": [],
   "source": [
    "'''\n",
    "scalerKr = scalerKr.fit(Xtrain,ytrain)\n",
    "kr_pred = scalerKr.predict(Xtest)\n",
    "scalersvm = scalersvm.fit(Xtrain,ytrain)\n",
    "svm_pred = scalersvm.predict(Xtest)\n",
    "xgbreg = xgbreg.fit(Xtrain,ytrain)\n",
    "xgb_pred = xgbreg.predict(Xtest)\n",
    "svr_rbf = svr_rbf.fit(Xtrain,ytrain)\n",
    "dt_pred = svr_rbf.predict(Xtest)\n",
    "stregr = stregr.fit(Xtrain,ytrain)\n",
    "streg_pred = stregr.predict(Xtest)\n",
    "xg_pred = xgb.DMatrix(Xtest,feature_names = Xtest.columns )\n",
    "mod_pred = model.predict(xg_pred)\n",
    "'''"
   ]
  },
  {
   "cell_type": "code",
   "execution_count": null,
   "metadata": {
    "collapsed": true
   },
   "outputs": [],
   "source": []
  },
  {
   "cell_type": "code",
   "execution_count": null,
   "metadata": {
    "collapsed": true
   },
   "outputs": [],
   "source": [
    "#cv = cross_val_score(xgbreg,X_train, train_prices, scoring  = scoring, cv= 5)\n",
    "#print (cv, np.mean(cv))\n",
    "\n",
    "#cv = cross_val_score(scalerKr,X_train, train_prices, scoring  = scoring, cv= outer_cv)\n",
    "#print (cv, np.mean(cv))"
   ]
  },
  {
   "cell_type": "code",
   "execution_count": null,
   "metadata": {
    "collapsed": true
   },
   "outputs": [],
   "source": [
    "#scalersvm = scalersvm.fit(X_train, train_prices)"
   ]
  },
  {
   "cell_type": "code",
   "execution_count": null,
   "metadata": {
    "collapsed": true
   },
   "outputs": [],
   "source": [
    "y = np.expm1(ytest)\n",
    "x = range(0,len(y))\n",
    "#axis = np.sort(np.array([x,y]))\n",
    "\n",
    "y1 = np.expm1(svm_pred)\n",
    "y2 = np.expm1(kr_pred)\n",
    "y3 = np.expm1(xgb_pred)\n",
    "y4 = np.expm1(dt_pred)\n",
    "y5 = np.expm1(streg_pred)\n",
    "y6 = np.expm1(mod_pred)\n",
    "\n",
    "\n",
    "#y8 = np.mean( np.array([ y6, y1 ]), axis=0 )\n",
    "\n",
    "pl.figure(figsize=(18,12))\n",
    "pl.scatter(x,y,  c='r', alpha=0.6)\n",
    "#pl.scatter(x, y1,  c='g', alpha=0.5)\n",
    "#pl.scatter(x, y2,  c='y', alpha=0.6)\n",
    "#pl.scatter(x, y3,  c='b', alpha=0.3)\n",
    "#pl.scatter(x, y4,  c='m', alpha=0.5)\n",
    "#pl.scatter(x, y5,  c='y', alpha=0.5)\n",
    "pl.scatter(x, y6,  c='y', alpha=0.5)\n",
    "#pl.plot(x_plot, y, 'r',x_plot, svm_pred, 'g',x_plot,kr_pred,'y',x_plot,xgb_pred,'b')\n",
    "pl.axis([0, 9500, 1000,5e7])\n",
    "#print(RMSE(y,y1))\n",
    "print(RMSE(y,y6))\n",
    "#print(RMSE(y,y8))\n",
    "pl.show()"
   ]
  },
  {
   "cell_type": "code",
   "execution_count": 178,
   "metadata": {},
   "outputs": [],
   "source": [
    "y_pred = model.predict(xg_submit)\n",
    "                       #,ntree_limit=model.best_iteration)\n",
    "#scaler_pred = scalersvm.predict(submit_features)\n",
    "\n",
    "#ysub = np.mean( np.array([ y_pred, scaler_pred ]), axis=0 )\n",
    "\n",
    "#y_submit = np.expm1(y_pred)\n",
    "\n",
    "df_submit = pd.DataFrame({'id': id_test, 'price_doc': y_pred})\n",
    "\n",
    "df_submit.to_csv('submit.csv', index=False)"
   ]
  },
  {
   "cell_type": "code",
   "execution_count": null,
   "metadata": {
    "collapsed": true
   },
   "outputs": [],
   "source": []
  }
 ],
 "metadata": {
  "kernelspec": {
   "display_name": "Python 3",
   "language": "python",
   "name": "python3"
  },
  "language_info": {
   "codemirror_mode": {
    "name": "ipython",
    "version": 3
   },
   "file_extension": ".py",
   "mimetype": "text/x-python",
   "name": "python",
   "nbconvert_exporter": "python",
   "pygments_lexer": "ipython3",
   "version": "3.6.1"
  }
 },
 "nbformat": 4,
 "nbformat_minor": 1
}
