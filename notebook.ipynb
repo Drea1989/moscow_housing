{
 "cells": [
  {
   "cell_type": "code",
   "execution_count": 1,
   "metadata": {
    "collapsed": false
   },
   "outputs": [
    {
     "name": "stderr",
     "output_type": "stream",
     "text": [
      "C:\\Users\\andre\\Anaconda2\\envs\\python3\\lib\\site-packages\\sklearn\\cross_validation.py:44: DeprecationWarning: This module was deprecated in version 0.18 in favor of the model_selection module into which all the refactored classes and functions are moved. Also note that the interface of the new CV iterators are different from that of this module. This module will be removed in 0.20.\n",
      "  \"This module will be removed in 0.20.\", DeprecationWarning)\n"
     ]
    }
   ],
   "source": [
    "# This Python 3 environment comes with many helpful analytics libraries installed\n",
    "# It is defined by the kaggle/python docker image: https://github.com/kaggle/docker-python\n",
    "# For example, here's several helpful packages to load in \n",
    "from IPython.display import display\n",
    "import numpy as np # linear algebra\n",
    "import pandas as pd # data processing, CSV file I/O (e.g. pd.read_csv)\n",
    "import matplotlib.pyplot as pl\n",
    "# Input data files are available in the \"../input/\" directory.\n",
    "# For example, running this (by clicking run or pressing Shift+Enter) will list the files in the input directory\n",
    "import xgboost as xgb\n",
    "from subprocess import check_output\n",
    "#print(check_output([\"ls\", \"../input\"]).decode(\"utf8\"))\n",
    "# Pretty display for notebooks\n",
    "%matplotlib inline\n",
    "\n",
    "# Any results you write to the current directory are saved as output."
   ]
  },
  {
   "cell_type": "code",
   "execution_count": null,
   "metadata": {
    "collapsed": false
   },
   "outputs": [],
   "source": [
    "data = pd.read_csv(\"../input/train.csv\", parse_dates=['timestamp'])\n",
    "prices = data['price_doc']\n",
    "train_data = data.drop(['price_doc','id'], axis =1)"
   ]
  },
  {
   "cell_type": "code",
   "execution_count": 2,
   "metadata": {
    "collapsed": true
   },
   "outputs": [],
   "source": [
    "data = pd.read_csv(\"train.csv\", parse_dates=['timestamp'])\n",
    "prices = data['price_doc']\n",
    "train_data = data.drop(['price_doc','id'], axis =1)"
   ]
  },
  {
   "cell_type": "code",
   "execution_count": null,
   "metadata": {
    "collapsed": false
   },
   "outputs": [],
   "source": [
    "data.select_dtypes(include=[object]).head()"
   ]
  },
  {
   "cell_type": "code",
   "execution_count": null,
   "metadata": {
    "collapsed": false
   },
   "outputs": [],
   "source": [
    "macros = pd.read_csv(\"macro.csv\",parse_dates=['timestamp'])"
   ]
  },
  {
   "cell_type": "code",
   "execution_count": null,
   "metadata": {
    "collapsed": false,
    "scrolled": false
   },
   "outputs": [],
   "source": [
    "columns_convert = macros.select_dtypes(include=[object]).keys()\n",
    "macros[columns_convert]= macros[columns_convert].apply(lambda x: pd.to_numeric(x.astype(str)\n",
    "                                                                               .str.replace(',','.'), errors='ignore'))\n",
    "macros[columns_convert].info()"
   ]
  },
  {
   "cell_type": "code",
   "execution_count": 3,
   "metadata": {
    "collapsed": true
   },
   "outputs": [],
   "source": [
    "def col_convert(df):\n",
    "    columns_convert = df.select_dtypes(include=[object]).keys()\n",
    "    df[columns_convert]= df[columns_convert].apply(lambda x: pd.to_numeric(x.astype(str)\n",
    "                                                                          .str.replace(',','.'), errors='ignore'))\n",
    "    df[columns_convert].head()\n",
    "    return df"
   ]
  },
  {
   "cell_type": "code",
   "execution_count": null,
   "metadata": {
    "collapsed": true
   },
   "outputs": [],
   "source": [
    "macro_prices = data['timestamp','price_doc']\n",
    "print(macro_prices.head())\n",
    "macro_raw = pd.merge_ordered(macros,macro_prices, on='timestamp', how='inner')\n",
    "macro_raw.drop('timestamp',axis=1,inplace =True)"
   ]
  },
  {
   "cell_type": "code",
   "execution_count": 4,
   "metadata": {
    "collapsed": false
   },
   "outputs": [],
   "source": [
    "#print(features_raw[features_raw.child_on_acc_pre_school.notnull()].head(1))\n",
    "#print(features_raw.info())\n",
    "def replace_mfloor(x,floor):\n",
    "    if (np.isnan(x)) or( x == 0):\n",
    "        return floor\n",
    "    elif floor > x:\n",
    "        return   floor\n",
    "    else:\n",
    "        return x\n",
    "def replace_buildy(x):\n",
    "    if (np.isnan(x)) or( x == 0):\n",
    "        return -1\n",
    "    elif x == 20052009:\n",
    "        return 2005\n",
    "    elif x == 4965:\n",
    "        return 1965\n",
    "    elif x <= 20:\n",
    "        return 2000 + x\n",
    "    elif x < 100:\n",
    "        return 1900 + x\n",
    "    elif x < 220:\n",
    "        return 1800 + x\n",
    "    else:\n",
    "        return x\n",
    "def replace_sq(x,full,avg):\n",
    "    if (np.isnan(x)) or( x == 0):\n",
    "        return full * avg\n",
    "    else:\n",
    "        return x\n",
    "def fix_state(x):\n",
    "    if x ==33:\n",
    "        return 3\n",
    "    else:\n",
    "        return x"
   ]
  },
  {
   "cell_type": "code",
   "execution_count": 5,
   "metadata": {
    "collapsed": false
   },
   "outputs": [
    {
     "data": {
      "text/html": [
       "<div>\n",
       "<table border=\"1\" class=\"dataframe\">\n",
       "  <thead>\n",
       "    <tr style=\"text-align: right;\">\n",
       "      <th></th>\n",
       "      <th>timestamp</th>\n",
       "      <th>full_sq</th>\n",
       "      <th>life_sq</th>\n",
       "      <th>floor</th>\n",
       "      <th>max_floor</th>\n",
       "      <th>material</th>\n",
       "      <th>build_year</th>\n",
       "      <th>num_room</th>\n",
       "      <th>kitch_sq</th>\n",
       "      <th>state</th>\n",
       "      <th>...</th>\n",
       "      <th>cafe_count_5000_price_1500</th>\n",
       "      <th>cafe_count_5000_price_2500</th>\n",
       "      <th>cafe_count_5000_price_4000</th>\n",
       "      <th>cafe_count_5000_price_high</th>\n",
       "      <th>big_church_count_5000</th>\n",
       "      <th>church_count_5000</th>\n",
       "      <th>mosque_count_5000</th>\n",
       "      <th>leisure_count_5000</th>\n",
       "      <th>sport_count_5000</th>\n",
       "      <th>market_count_5000</th>\n",
       "    </tr>\n",
       "  </thead>\n",
       "  <tbody>\n",
       "    <tr>\n",
       "      <th>17932</th>\n",
       "      <td>2014-04-28</td>\n",
       "      <td>0</td>\n",
       "      <td>0.0</td>\n",
       "      <td>0.0</td>\n",
       "      <td>0.0</td>\n",
       "      <td>1.0</td>\n",
       "      <td>0.0</td>\n",
       "      <td>0.0</td>\n",
       "      <td>0.0</td>\n",
       "      <td>1.0</td>\n",
       "      <td>...</td>\n",
       "      <td>8</td>\n",
       "      <td>0</td>\n",
       "      <td>0</td>\n",
       "      <td>0</td>\n",
       "      <td>1</td>\n",
       "      <td>7</td>\n",
       "      <td>1</td>\n",
       "      <td>0</td>\n",
       "      <td>12</td>\n",
       "      <td>1</td>\n",
       "    </tr>\n",
       "    <tr>\n",
       "      <th>24296</th>\n",
       "      <td>2014-11-05</td>\n",
       "      <td>0</td>\n",
       "      <td>77.0</td>\n",
       "      <td>4.0</td>\n",
       "      <td>17.0</td>\n",
       "      <td>1.0</td>\n",
       "      <td>0.0</td>\n",
       "      <td>3.0</td>\n",
       "      <td>0.0</td>\n",
       "      <td>1.0</td>\n",
       "      <td>...</td>\n",
       "      <td>5</td>\n",
       "      <td>1</td>\n",
       "      <td>1</td>\n",
       "      <td>0</td>\n",
       "      <td>2</td>\n",
       "      <td>12</td>\n",
       "      <td>0</td>\n",
       "      <td>1</td>\n",
       "      <td>10</td>\n",
       "      <td>0</td>\n",
       "    </tr>\n",
       "  </tbody>\n",
       "</table>\n",
       "<p>2 rows × 290 columns</p>\n",
       "</div>"
      ],
      "text/plain": [
       "       timestamp  full_sq  life_sq  floor  max_floor  material  build_year  \\\n",
       "17932 2014-04-28        0      0.0    0.0        0.0       1.0         0.0   \n",
       "24296 2014-11-05        0     77.0    4.0       17.0       1.0         0.0   \n",
       "\n",
       "       num_room  kitch_sq  state        ...          \\\n",
       "17932       0.0       0.0    1.0        ...           \n",
       "24296       3.0       0.0    1.0        ...           \n",
       "\n",
       "      cafe_count_5000_price_1500 cafe_count_5000_price_2500  \\\n",
       "17932                          8                          0   \n",
       "24296                          5                          1   \n",
       "\n",
       "       cafe_count_5000_price_4000  cafe_count_5000_price_high  \\\n",
       "17932                           0                           0   \n",
       "24296                           1                           0   \n",
       "\n",
       "       big_church_count_5000  church_count_5000  mosque_count_5000  \\\n",
       "17932                      1                  7                  1   \n",
       "24296                      2                 12                  0   \n",
       "\n",
       "       leisure_count_5000  sport_count_5000  market_count_5000  \n",
       "17932                   0                12                  1  \n",
       "24296                   1                10                  0  \n",
       "\n",
       "[2 rows x 290 columns]"
      ]
     },
     "metadata": {},
     "output_type": "display_data"
    }
   ],
   "source": [
    "index_drop = train_data.loc[(train_data['full_sq']== 0)]\n",
    "display(index_drop)\n",
    "features_raw = train_data.drop([17932,24296],axis=0)\n",
    "prices.drop([17932,24296],axis=0, inplace=True)"
   ]
  },
  {
   "cell_type": "code",
   "execution_count": 6,
   "metadata": {
    "collapsed": false,
    "scrolled": true
   },
   "outputs": [
    {
     "name": "stdout",
     "output_type": "stream",
     "text": [
      "0.634531711434 0.118040764532\n"
     ]
    }
   ],
   "source": [
    "full_sq_avg = np.nanmean(features_raw['full_sq'])\n",
    "life_sq_avg =  np.nanmean(features_raw['life_sq'])\n",
    "kitch_sq_avg = np.nanmean(features_raw['kitch_sq'])\n",
    "life_ratio = life_sq_avg / full_sq_avg\n",
    "kitch_ratio = kitch_sq_avg / full_sq_avg\n",
    "print (life_ratio,kitch_ratio)"
   ]
  },
  {
   "cell_type": "code",
   "execution_count": 7,
   "metadata": {
    "collapsed": false
   },
   "outputs": [],
   "source": [
    "features_raw[['floor']] = features_raw[['floor']].fillna(value=0)\n",
    "features_raw['max_floor']= features_raw.apply(lambda row: replace_mfloor(row['max_floor'],row['floor']), axis=1)\n",
    "features_raw['build_year'] = features_raw.apply(lambda row: replace_buildy(row['build_year']), axis=1)\n",
    "features_raw['life_sq']= features_raw.apply(lambda row: replace_sq(row['life_sq'],row['full_sq'],life_ratio), axis=1)\n",
    "features_raw['kitch_sq']= features_raw.apply(lambda row: replace_sq(row['kitch_sq'],row['full_sq'],kitch_ratio), axis=1)\n",
    "features_raw['flor_prop'] = features_raw['floor'] / features_raw['max_floor']\n",
    "features_raw['state'] = features_raw.apply(lambda row: fix_state(row['state']), axis=1)"
   ]
  },
  {
   "cell_type": "code",
   "execution_count": 8,
   "metadata": {
    "collapsed": false
   },
   "outputs": [
    {
     "data": {
      "text/plain": [
       "array([ nan,   1.,   2.,   4.,   6.,   5.,   3.])"
      ]
     },
     "metadata": {},
     "output_type": "display_data"
    },
    {
     "data": {
      "text/plain": [
       "array([ nan,   3.,   1.,   2.,   4.])"
      ]
     },
     "metadata": {},
     "output_type": "display_data"
    }
   ],
   "source": [
    "display(features_raw['material'].unique() )\n",
    "display(features_raw['state'].unique() )\n",
    "features_raw.drop('timestamp',axis=1,inplace =True)"
   ]
  },
  {
   "cell_type": "code",
   "execution_count": 12,
   "metadata": {
    "collapsed": false
   },
   "outputs": [
    {
     "data": {
      "text/html": [
       "<div>\n",
       "<table border=\"1\" class=\"dataframe\">\n",
       "  <thead>\n",
       "    <tr style=\"text-align: right;\">\n",
       "      <th></th>\n",
       "      <th>product_type</th>\n",
       "      <th>sub_area</th>\n",
       "      <th>culture_objects_top_25</th>\n",
       "      <th>thermal_power_plant_raion</th>\n",
       "      <th>incineration_raion</th>\n",
       "      <th>oil_chemistry_raion</th>\n",
       "      <th>radiation_raion</th>\n",
       "      <th>railroad_terminal_raion</th>\n",
       "      <th>big_market_raion</th>\n",
       "      <th>nuclear_reactor_raion</th>\n",
       "      <th>detention_facility_raion</th>\n",
       "      <th>water_1line</th>\n",
       "      <th>big_road1_1line</th>\n",
       "      <th>railroad_1line</th>\n",
       "      <th>ecology</th>\n",
       "    </tr>\n",
       "  </thead>\n",
       "  <tbody>\n",
       "    <tr>\n",
       "      <th>0</th>\n",
       "      <td>Investment</td>\n",
       "      <td>Bibirevo</td>\n",
       "      <td>no</td>\n",
       "      <td>no</td>\n",
       "      <td>no</td>\n",
       "      <td>no</td>\n",
       "      <td>no</td>\n",
       "      <td>no</td>\n",
       "      <td>no</td>\n",
       "      <td>no</td>\n",
       "      <td>no</td>\n",
       "      <td>no</td>\n",
       "      <td>no</td>\n",
       "      <td>no</td>\n",
       "      <td>good</td>\n",
       "    </tr>\n",
       "  </tbody>\n",
       "</table>\n",
       "</div>"
      ],
      "text/plain": [
       "  product_type  sub_area culture_objects_top_25 thermal_power_plant_raion  \\\n",
       "0   Investment  Bibirevo                     no                        no   \n",
       "\n",
       "  incineration_raion oil_chemistry_raion radiation_raion  \\\n",
       "0                 no                  no              no   \n",
       "\n",
       "  railroad_terminal_raion big_market_raion nuclear_reactor_raion  \\\n",
       "0                      no               no                    no   \n",
       "\n",
       "  detention_facility_raion water_1line big_road1_1line railroad_1line ecology  \n",
       "0                       no          no              no             no    good  "
      ]
     },
     "metadata": {},
     "output_type": "display_data"
    },
    {
     "name": "stdout",
     "output_type": "stream",
     "text": [
      "281 total features after encoding.\n"
     ]
    }
   ],
   "source": [
    "#encode the 'features' data with label encored\n",
    "from sklearn.preprocessing import LabelEncoder\n",
    "objects = features_raw.select_dtypes(include=['object']).keys()\n",
    "from collections import defaultdict\n",
    "d = defaultdict(LabelEncoder)\n",
    "# Encoding the variable\n",
    "features = col_convert(features_raw)\n",
    "display (features[objects].head(1))\n",
    "features[objects] = features_raw[objects].apply(lambda x: d[x.name].fit_transform(x))\n",
    "'''\n",
    "for col in objects:\n",
    "        print ('column')\n",
    "        lbl.fit(list(features_raw[col].values)) \n",
    "        features_raw[col] = lbl.transform(list(features_raw[col].values))\n",
    "\n",
    "features = features_raw\n",
    "'''\n",
    "# remove boolean with _no\n",
    "#features = features.drop(features.filter(regex='_no', axis=1),axis=1)\n",
    "features = features.drop(features.filter(regex='_all', axis=1),axis=1)\n",
    "\n",
    "# Print the number of features after one-hot encoding\n",
    "encoded = list(features.columns)\n",
    "print (\"{} total features after encoding.\".format(len(encoded)))\n"
   ]
  },
  {
   "cell_type": "code",
   "execution_count": 11,
   "metadata": {
    "collapsed": false
   },
   "outputs": [
    {
     "data": {
      "text/plain": [
       "array(['Investment', 'OwnerOccupier'], dtype=object)"
      ]
     },
     "metadata": {},
     "output_type": "display_data"
    }
   ],
   "source": [
    "# Import sklearn.preprocessing.StandardScaler\n",
    "from sklearn.preprocessing import MinMaxScaler\n",
    "# Initialize a scaler, then apply it to the features\n",
    "scaler = MinMaxScaler((-1,10))\n",
    "numerical = list(features_raw.select_dtypes(include=['float64','int64']).keys())\n",
    "numerical.remove('material')\n",
    "numerical.remove('state')\n",
    "\n",
    "features_raw.fillna(-1, inplace = True)\n",
    "#print(features_raw[numerical].isnull().sum())\n",
    "features_raw[numerical] = scaler.fit_transform(features_raw[numerical])\n",
    "\n",
    "# Show an example of a record with scaling applied\n",
    "display(features_raw['product_type'].unique() )\n",
    "#display(features_raw['state'].unique() )"
   ]
  },
  {
   "cell_type": "code",
   "execution_count": null,
   "metadata": {
    "collapsed": false
   },
   "outputs": [],
   "source": [
    "# Uncomment the following line to see the encoded feature names\n",
    "#features.fillna(-1, inplace = True)\n",
    "display(features['material'].unique() )\n",
    "display(features['state'].unique() )"
   ]
  },
  {
   "cell_type": "code",
   "execution_count": 20,
   "metadata": {
    "collapsed": false
   },
   "outputs": [],
   "source": [
    "from sklearn.feature_selection import SelectKBest,f_regression\n",
    "kbest = SelectKBest(score_func=f_regression,k=250)\n",
    "best_features = kbest.fit_transform(features,prices)"
   ]
  },
  {
   "cell_type": "code",
   "execution_count": 19,
   "metadata": {
    "collapsed": false
   },
   "outputs": [
    {
     "name": "stdout",
     "output_type": "stream",
     "text": [
      "250\n"
     ]
    }
   ],
   "source": [
    "keep_features = np.sort(kbest.pvalues_)[::-1]\n",
    "\n",
    "keep_features =keep_features[np.where(keep_features > 0 )]\n",
    "print (len(keep_features))"
   ]
  },
  {
   "cell_type": "code",
   "execution_count": null,
   "metadata": {
    "collapsed": false
   },
   "outputs": [],
   "source": [
    "#Minimum price of the data\n",
    "minimum_price = np.min(prices)\n",
    "\n",
    "#Maximum price of the data\n",
    "maximum_price = np.max(prices)\n",
    "\n",
    "#Mean price of the data\n",
    "mean_price = np.mean(prices)\n",
    "\n",
    "#Median price of the data\n",
    "median_price = np.median(prices)\n",
    "\n",
    "#Standard deviation of prices of the data\n",
    "std_price = np.std(prices)\n",
    "\n",
    "# Show the calculated statistics\n",
    "print (\"Statistics for russian housing dataset:\\n\")\n",
    "print (\"Minimum price: Rub {:,.2f}\".format(minimum_price))\n",
    "print (\"Maximum price: Rub {:,.2f}\".format(maximum_price))\n",
    "print (\"Mean price: Rub {:,.2f}\".format(mean_price))\n",
    "print (\"Median price Rub {:,.2f}\".format(median_price))\n",
    "print (\"Standard deviation of prices: Rub {:,.2f}\".format(std_price))\n",
    "#added statistic for critica alfa = 0.05 double tailed cutover\n",
    "#calculating standard error using correction for sample size n = 100\n",
    "alfa_c = (std_price/99)*1.96\n",
    "print (\"critical alfa score for sample size of 100: Rub {:,.2f}\".format(alfa_c))"
   ]
  },
  {
   "cell_type": "code",
   "execution_count": null,
   "metadata": {
    "collapsed": true
   },
   "outputs": [],
   "source": [
    "from sklearn.metrics import mean_squared_error\n",
    "def performance_metric(y_true, y_predict):\n",
    "    \"\"\" Calculates and returns the performance score between \n",
    "        true and predicted values based on the metric chosen. \"\"\"\n",
    "    score = mean_squared_error(y_true, y_predict) \n",
    "    return score"
   ]
  },
  {
   "cell_type": "code",
   "execution_count": null,
   "metadata": {
    "collapsed": false
   },
   "outputs": [],
   "source": [
    "from sklearn.model_selection import train_test_split\n",
    "#Shuffle and split the data into training and testing subsets\n",
    "X_train, X_test, y_train, y_test = train_test_split(features,prices, test_size =0.2, random_state = 33)\n",
    "print (\"Training and testing split was successful.\")"
   ]
  },
  {
   "cell_type": "code",
   "execution_count": null,
   "metadata": {
    "collapsed": false
   },
   "outputs": [],
   "source": [
    "# Produce learning curves for varying training set sizes and maximum depths\n",
    "from sklearn.model_selection import ShuffleSplit, train_test_split\n",
    "from sklearn.model_selection import learning_curve as curves\n",
    "\n",
    "from sklearn.tree import DecisionTreeRegressor\n",
    "def ModelLearning(X, y):\n",
    "    \"\"\" Calculates the performance of several models with varying sizes of training data.\n",
    "        The learning and testing scores for each model are then plotted. \"\"\"\n",
    "    \n",
    "    # Create 10 cross-validation sets for training and testing\n",
    "    cv = ShuffleSplit(n_splits = 10, test_size = 0.2, random_state = 0)\n",
    "\n",
    "    # Generate the training set sizes increasing by 50\n",
    "    train_sizes = np.rint(np.linspace(1, X.shape[0]*0.8 - 1, 9)).astype(int)\n",
    "\n",
    "    # Create the figure window\n",
    "    fig = pl.figure(figsize=(10,7))\n",
    "\n",
    "    # Create three different models based on max_depth\n",
    "    for k, depth in enumerate([1,3,6,10]):\n",
    "        \n",
    "        # Create a Decision tree regressor at max_depth = depth\n",
    "        regressor = DecisionTreeRegressor(max_depth = depth)\n",
    "\n",
    "        # Calculate the training and testing scores\n",
    "        sizes, train_scores, test_scores = curves(regressor, X, y, \\\n",
    "            cv = cv, train_sizes = train_sizes, scoring = 'r2')\n",
    "        \n",
    "        # Find the mean and standard deviation for smoothing\n",
    "        train_std = np.std(train_scores, axis = 1)\n",
    "        train_mean = np.mean(train_scores, axis = 1)\n",
    "        test_std = np.std(test_scores, axis = 1)\n",
    "        test_mean = np.mean(test_scores, axis = 1)\n",
    "\n",
    "        # Subplot the learning curve \n",
    "        ax = fig.add_subplot(2, 2, k+1)\n",
    "        ax.plot(sizes, train_mean, 'o-', color = 'r', label = 'Training Score')\n",
    "        ax.plot(sizes, test_mean, 'o-', color = 'g', label = 'Testing Score')\n",
    "        ax.fill_between(sizes, train_mean - train_std, \\\n",
    "            train_mean + train_std, alpha = 0.15, color = 'r')\n",
    "        ax.fill_between(sizes, test_mean - test_std, \\\n",
    "            test_mean + test_std, alpha = 0.15, color = 'g')\n",
    "        \n",
    "        # Labels\n",
    "        ax.set_title('max_depth = %s'%(depth))\n",
    "        ax.set_xlabel('Number of Training Points')\n",
    "        ax.set_ylabel('Score')\n",
    "        ax.set_xlim([0, X.shape[0]*0.8])\n",
    "        ax.set_ylim([-0.05, 1.05])\n",
    "    \n",
    "    # Visual aesthetics\n",
    "    ax.legend(bbox_to_anchor=(1.05, 2.05), loc='lower left', borderaxespad = 0.)\n",
    "    fig.suptitle('Decision Tree Regressor Learning Performances', fontsize = 16, y = 1.03)\n",
    "    fig.tight_layout()\n",
    "    fig.show()"
   ]
  },
  {
   "cell_type": "code",
   "execution_count": null,
   "metadata": {
    "collapsed": false
   },
   "outputs": [],
   "source": [
    "ModelLearning(features, prices)"
   ]
  },
  {
   "cell_type": "code",
   "execution_count": null,
   "metadata": {
    "collapsed": true
   },
   "outputs": [],
   "source": [
    "from sklearn.model_selection import validation_curve\n",
    "def ModelComplexity(X, y):\n",
    "    \"\"\" Calculates the performance of the model as model complexity increases.\n",
    "        The learning and testing errors rates are then plotted. \"\"\"\n",
    "    \n",
    "    # Create 10 cross-validation sets for training and testing\n",
    "    cv = ShuffleSplit(n_splits = 10, test_size = 0.2, random_state = 0)\n",
    "\n",
    "    # Vary the max_depth parameter from 1 to 10\n",
    "    max_depth = np.arange(1,11)\n",
    "\n",
    "    # Calculate the training and testing scores\n",
    "    train_scores, test_scores = validation_curve(DecisionTreeRegressor(), X, y, \\\n",
    "        param_name = \"max_depth\", param_range = max_depth, cv = cv, scoring = 'r2')\n",
    "\n",
    "    # Find the mean and standard deviation for smoothing\n",
    "    train_mean = np.mean(train_scores, axis=1)\n",
    "    train_std = np.std(train_scores, axis=1)\n",
    "    test_mean = np.mean(test_scores, axis=1)\n",
    "    test_std = np.std(test_scores, axis=1)\n",
    "\n",
    "    # Plot the validation curve\n",
    "    pl.figure(figsize=(7, 5))\n",
    "    pl.title('Decision Tree Regressor Complexity Performance')\n",
    "    pl.plot(max_depth, train_mean, 'o-', color = 'r', label = 'Training Score')\n",
    "    pl.plot(max_depth, test_mean, 'o-', color = 'g', label = 'Validation Score')\n",
    "    pl.fill_between(max_depth, train_mean - train_std, \\\n",
    "        train_mean + train_std, alpha = 0.15, color = 'r')\n",
    "    pl.fill_between(max_depth, test_mean - test_std, \\\n",
    "        test_mean + test_std, alpha = 0.15, color = 'g')\n",
    "    \n",
    "    # Visual aesthetics\n",
    "    pl.legend(loc = 'lower right')\n",
    "    pl.xlabel('Maximum Depth')\n",
    "    pl.ylabel('Score')\n",
    "    pl.ylim([-0.05,1.05])\n",
    "    pl.show()"
   ]
  },
  {
   "cell_type": "code",
   "execution_count": null,
   "metadata": {
    "collapsed": false
   },
   "outputs": [],
   "source": [
    "ModelComplexity(X_train, y_train)"
   ]
  },
  {
   "cell_type": "code",
   "execution_count": null,
   "metadata": {
    "collapsed": false
   },
   "outputs": [],
   "source": [
    "from sklearn.ensemble import RandomForestRegressor\n",
    "from sklearn.decomposition import PCA, NMF\n",
    "pca = NMF(random_state=33).fit(features)"
   ]
  },
  {
   "cell_type": "code",
   "execution_count": null,
   "metadata": {
    "collapsed": false
   },
   "outputs": [],
   "source": [
    "#pca explanation\n",
    "def pca_results(good_data, pca):\n",
    "    '''\n",
    "    Create a DataFrame of the PCA results\n",
    "    Includes dimension feature weights and explained variance\n",
    "    Visualizes the PCA results\n",
    "    '''\n",
    "\n",
    "    # Dimension indexing\n",
    "    dimensions = ['Dimension {}'.format(i) for i in range(1,len(pca.components_)+1)]\n",
    "\n",
    "    # PCA components\n",
    "    components = pd.DataFrame(np.round(pca.components_, 4), columns = good_data.keys())\n",
    "    components.index = dimensions\n",
    "   \n",
    "\n",
    "    # PCA explained variance\n",
    "    ratios = pca.explained_variance_ratio_.reshape(len(pca.components_), 1)\n",
    "    variance_ratios = pd.DataFrame(np.round(ratios, 4), columns = ['Explained Variance'])\n",
    "    variance_ratios.index = dimensions\n",
    "\n",
    "    # Create a bar plot visualization\n",
    "    #fig, ax = pl.subplots(figsize = (6,6))\n",
    "\n",
    "    # Plot the feature weights as a function of the components\n",
    "    #components.plot(ax = ax, kind = 'bar')\n",
    "    #pl.hist(components)\n",
    "    #ax.set_ylabel(\"Feature Weights\")\n",
    "    #ax.set_xticklabels(dimensions, rotation=1)\n",
    "\n",
    "\n",
    "    # Display the explained variance ratios\n",
    "    #for i, ev in enumerate(pca.explained_variance_ratio_):\n",
    "    #    ax.text(i-0.40, ax.get_ylim()[1] + 0.05, \"Explained Variance\\n          %.4f\"%(ev))\n",
    "\n",
    "    # Return a concatenated DataFrame\n",
    "    return pd.concat([variance_ratios, components], axis = 1)\n",
    "\n",
    "pca_result = pca_results(features,pca)\n",
    "#pca_results(X_train,pca)"
   ]
  },
  {
   "cell_type": "code",
   "execution_count": null,
   "metadata": {
    "collapsed": false,
    "scrolled": false
   },
   "outputs": [],
   "source": [
    "pca_result['Explained Variance'].cumsum()"
   ]
  },
  {
   "cell_type": "code",
   "execution_count": null,
   "metadata": {
    "collapsed": false
   },
   "outputs": [],
   "source": [
    "# Fit the training data to the model using grid search\n",
    "pca = PCA(n_components = 149, random_state =33 )\n",
    "X_trainPCA = pca.fit_transform(features)\n",
    "#X_testPCA = pca.transform(X_test)\n",
    "#reg = reg.fit(X_trainPCA, y_train)\n",
    "#y_val = reg.predict(X_testPCA)\n",
    "#print (performance_metric(y_test,y_val))"
   ]
  },
  {
   "cell_type": "code",
   "execution_count": 21,
   "metadata": {
    "collapsed": false
   },
   "outputs": [],
   "source": [
    "#optimising model\n",
    "#eta 0.05 = 2.62690e+06\n",
    "#eta 0.015 = 2.59523e+06\n",
    "#eta 0.015 = 2.63821e+06\n",
    "#2.6557+06\n",
    "xgb_params = {\n",
    "    'eta': 0.018,\n",
    "    'max_depth': 5,\n",
    "    'subsample': 0.7,\n",
    "    'colsample_bytree': 0.7,\n",
    "    'objective': 'reg:linear',\n",
    "    'eval_metric': 'rmse',\n",
    "    'silent': 1\n",
    "}\n",
    "\n",
    "dtrain = xgb.DMatrix(best_features, prices)\n",
    "#dtrain = xgb.DMatrix(features, prices)"
   ]
  },
  {
   "cell_type": "code",
   "execution_count": 22,
   "metadata": {
    "collapsed": false
   },
   "outputs": [
    {
     "name": "stdout",
     "output_type": "stream",
     "text": [
      "[0]\ttrain-rmse:8.46646e+06\ttest-rmse:8.4677e+06\n",
      "[50]\ttrain-rmse:4.74593e+06\ttest-rmse:4.84475e+06\n",
      "[100]\ttrain-rmse:3.22119e+06\ttest-rmse:3.45427e+06\n",
      "[150]\ttrain-rmse:2.6416e+06\ttest-rmse:2.99782e+06\n",
      "[200]\ttrain-rmse:2.41164e+06\ttest-rmse:2.84905e+06\n",
      "[250]\ttrain-rmse:2.29619e+06\ttest-rmse:2.79083e+06\n",
      "[300]\ttrain-rmse:2.22814e+06\ttest-rmse:2.76072e+06\n",
      "[350]\ttrain-rmse:2.17593e+06\ttest-rmse:2.74191e+06\n",
      "[400]\ttrain-rmse:2.13596e+06\ttest-rmse:2.72812e+06\n",
      "[450]\ttrain-rmse:2.09928e+06\ttest-rmse:2.71649e+06\n",
      "[500]\ttrain-rmse:2.06927e+06\ttest-rmse:2.70838e+06\n",
      "[550]\ttrain-rmse:2.04251e+06\ttest-rmse:2.70079e+06\n",
      "[600]\ttrain-rmse:2.01661e+06\ttest-rmse:2.69409e+06\n",
      "[650]\ttrain-rmse:1.99202e+06\ttest-rmse:2.68794e+06\n",
      "[700]\ttrain-rmse:1.96885e+06\ttest-rmse:2.68305e+06\n",
      "[750]\ttrain-rmse:1.94784e+06\ttest-rmse:2.68067e+06\n",
      "[800]\ttrain-rmse:1.92861e+06\ttest-rmse:2.67767e+06\n",
      "[850]\ttrain-rmse:1.90886e+06\ttest-rmse:2.67434e+06\n",
      "[900]\ttrain-rmse:1.89e+06\ttest-rmse:2.67231e+06\n",
      "[950]\ttrain-rmse:1.87139e+06\ttest-rmse:2.67009e+06\n",
      "[1000]\ttrain-rmse:1.85415e+06\ttest-rmse:2.6681e+06\n",
      "[1050]\ttrain-rmse:1.83645e+06\ttest-rmse:2.66621e+06\n",
      "[1100]\ttrain-rmse:1.82009e+06\ttest-rmse:2.66415e+06\n",
      "[1150]\ttrain-rmse:1.80458e+06\ttest-rmse:2.663e+06\n",
      "[1200]\ttrain-rmse:1.78967e+06\ttest-rmse:2.66188e+06\n",
      "[1250]\ttrain-rmse:1.77471e+06\ttest-rmse:2.66038e+06\n",
      "[1300]\ttrain-rmse:1.76069e+06\ttest-rmse:2.65914e+06\n",
      "[1350]\ttrain-rmse:1.7457e+06\ttest-rmse:2.65837e+06\n",
      "[1400]\ttrain-rmse:1.73227e+06\ttest-rmse:2.65758e+06\n",
      "[1450]\ttrain-rmse:1.71822e+06\ttest-rmse:2.65671e+06\n",
      "[1500]\ttrain-rmse:1.70446e+06\ttest-rmse:2.65573e+06\n"
     ]
    },
    {
     "data": {
      "text/plain": [
       "<matplotlib.axes._subplots.AxesSubplot at 0x27096677da0>"
      ]
     },
     "execution_count": 22,
     "metadata": {},
     "output_type": "execute_result"
    },
    {
     "data": {
      "image/png": "[encoded data removed]",
      "text/plain": [
       "<matplotlib.figure.Figure at 0x270966774a8>"
      ]
     },
     "metadata": {},
     "output_type": "display_data"
    }
   ],
   "source": [
    "cv_output = xgb.cv(xgb_params, dtrain, num_boost_round=5000, early_stopping_rounds=20,\n",
    "    verbose_eval=50, show_stdv=False)\n",
    "cv_output[['train-rmse-mean', 'test-rmse-mean']].plot()"
   ]
  },
  {
   "cell_type": "code",
   "execution_count": 23,
   "metadata": {
    "collapsed": false
   },
   "outputs": [],
   "source": [
    "num_boost_rounds = len(cv_output)\n",
    "model = xgb.train(dict(xgb_params, silent=0), dtrain, num_boost_round= num_boost_rounds)"
   ]
  },
  {
   "cell_type": "code",
   "execution_count": null,
   "metadata": {
    "collapsed": false
   },
   "outputs": [],
   "source": [
    "fig, ax = pl.subplots(1, 1, figsize=(12, 13))\n",
    "xgb.plot_importance(model, ax =ax)"
   ]
  },
  {
   "cell_type": "code",
   "execution_count": 28,
   "metadata": {
    "collapsed": false
   },
   "outputs": [
    {
     "name": "stderr",
     "output_type": "stream",
     "text": [
      "C:\\Users\\andre\\Anaconda2\\envs\\python3\\lib\\site-packages\\pandas\\core\\frame.py:2842: SettingWithCopyWarning: \n",
      "A value is trying to be set on a copy of a slice from a DataFrame\n",
      "\n",
      "See the caveats in the documentation: http://pandas.pydata.org/pandas-docs/stable/indexing.html#indexing-view-versus-copy\n",
      "  downcast=downcast, **kwargs)\n"
     ]
    }
   ],
   "source": [
    "#prepare test data:\n",
    "test_data = pd.read_csv(\"test.csv\", parse_dates=['timestamp'])\n",
    "id_test = test_data.id\n",
    "test_features_raw = test_data.drop(['id'], axis =1)\n",
    "\n",
    "#test_features_raw = pd.merge_ordered(test_data, macros, on='timestamp', how='left')\n",
    "test_features_raw.drop('timestamp',axis=1,inplace =True)\n",
    "\n",
    "test_features_raw[['floor']] = test_features_raw[['floor']].fillna(value=0)\n",
    "test_features_raw['max_floor']= test_features_raw.apply(lambda row: replace_mfloor(row['max_floor'],row['floor']), axis=1)\n",
    "test_features_raw['build_year'] = test_features_raw.apply(lambda row: replace_buildy(row['build_year']), axis=1)\n",
    "test_features_raw['life_sq']= test_features_raw.apply(lambda row: replace_sq(row['life_sq'],row['full_sq'],life_ratio), axis=1)\n",
    "test_features_raw['kitch_sq']= test_features_raw.apply(lambda row: replace_sq(row['kitch_sq'],row['full_sq'],kitch_ratio), axis=1)\n",
    "\n",
    "test_features_raw['state'] = test_features_raw.apply(lambda row: fix_state(row['state']), axis=1)\n",
    "\n",
    "test_features_raw['flor_prop'] = test_features_raw['floor'] / test_features_raw['max_floor']\n",
    "\n",
    "test_features_raw[numerical].fillna(-1, inplace = True)\n",
    "\n",
    "#test_features_raw[numerical] = scaler.transform(test_features_raw[numerical])\n",
    "test_features = test_features_raw\n",
    "# Using the dictionary to label future data\n",
    "test_features['product_type'].fillna('OwnerOccupier', inplace =True)\n",
    "#display(test_features_raw['product_type'].unique())\n",
    "test_features[objects] = test_features[objects].apply(lambda x: d[x.name].transform(x))\n",
    "test_features.fillna(-1, inplace = True)\n",
    "\n",
    "# remove boolean with _no\n",
    "#test_features = test_features.drop(test_features.filter(regex='_no', axis=1),axis=1)\n",
    "test_features = test_features.drop(test_features.filter(regex='_all', axis=1),axis=1)\n",
    "testdataPCA = kbest.transform(test_features)\n"
   ]
  },
  {
   "cell_type": "code",
   "execution_count": 29,
   "metadata": {
    "collapsed": false
   },
   "outputs": [
    {
     "data": {
      "text/plain": [
       "array([0, 1], dtype=int64)"
      ]
     },
     "metadata": {},
     "output_type": "display_data"
    }
   ],
   "source": [
    "display(test_features_raw.product_type.unique())"
   ]
  },
  {
   "cell_type": "code",
   "execution_count": 30,
   "metadata": {
    "collapsed": false
   },
   "outputs": [
    {
     "data": {
      "text/html": [
       "<div>\n",
       "<table border=\"1\" class=\"dataframe\">\n",
       "  <thead>\n",
       "    <tr style=\"text-align: right;\">\n",
       "      <th></th>\n",
       "      <th>full_sq</th>\n",
       "      <th>life_sq</th>\n",
       "      <th>floor</th>\n",
       "      <th>max_floor</th>\n",
       "      <th>material</th>\n",
       "      <th>build_year</th>\n",
       "      <th>num_room</th>\n",
       "      <th>kitch_sq</th>\n",
       "      <th>state</th>\n",
       "      <th>product_type</th>\n",
       "      <th>...</th>\n",
       "      <th>cafe_count_5000_price_2500</th>\n",
       "      <th>cafe_count_5000_price_4000</th>\n",
       "      <th>cafe_count_5000_price_high</th>\n",
       "      <th>big_church_count_5000</th>\n",
       "      <th>church_count_5000</th>\n",
       "      <th>mosque_count_5000</th>\n",
       "      <th>leisure_count_5000</th>\n",
       "      <th>sport_count_5000</th>\n",
       "      <th>market_count_5000</th>\n",
       "      <th>flor_prop</th>\n",
       "    </tr>\n",
       "  </thead>\n",
       "  <tbody>\n",
       "    <tr>\n",
       "      <th>0</th>\n",
       "      <td>39.0</td>\n",
       "      <td>20.7</td>\n",
       "      <td>2</td>\n",
       "      <td>9</td>\n",
       "      <td>1</td>\n",
       "      <td>1998.0</td>\n",
       "      <td>1</td>\n",
       "      <td>8.9</td>\n",
       "      <td>3.0</td>\n",
       "      <td>0</td>\n",
       "      <td>...</td>\n",
       "      <td>0</td>\n",
       "      <td>0</td>\n",
       "      <td>0</td>\n",
       "      <td>1</td>\n",
       "      <td>10</td>\n",
       "      <td>1</td>\n",
       "      <td>0</td>\n",
       "      <td>14</td>\n",
       "      <td>1</td>\n",
       "      <td>0.222222</td>\n",
       "    </tr>\n",
       "  </tbody>\n",
       "</table>\n",
       "<p>1 rows × 281 columns</p>\n",
       "</div>"
      ],
      "text/plain": [
       "   full_sq  life_sq  floor  max_floor  material  build_year  num_room  \\\n",
       "0     39.0     20.7      2          9         1      1998.0         1   \n",
       "\n",
       "   kitch_sq  state  product_type    ...      cafe_count_5000_price_2500  \\\n",
       "0       8.9    3.0             0    ...                               0   \n",
       "\n",
       "   cafe_count_5000_price_4000  cafe_count_5000_price_high  \\\n",
       "0                           0                           0   \n",
       "\n",
       "   big_church_count_5000  church_count_5000  mosque_count_5000  \\\n",
       "0                      1                 10                  1   \n",
       "\n",
       "   leisure_count_5000  sport_count_5000  market_count_5000  flor_prop  \n",
       "0                   0                14                  1   0.222222  \n",
       "\n",
       "[1 rows x 281 columns]"
      ]
     },
     "execution_count": 30,
     "metadata": {},
     "output_type": "execute_result"
    }
   ],
   "source": [
    "test_features.head(1)"
   ]
  },
  {
   "cell_type": "code",
   "execution_count": 32,
   "metadata": {
    "collapsed": false
   },
   "outputs": [],
   "source": [
    "dtest = xgb.DMatrix(testdataPCA)\n",
    "y_pred = model.predict(dtest,ntree_limit=model.best_ntree_limit)\n",
    "\n",
    "df_submit = pd.DataFrame({'id': id_test, 'price_doc': y_pred})\n",
    "\n",
    "df_submit.to_csv('submit.csv', index=False)"
   ]
  },
  {
   "cell_type": "code",
   "execution_count": null,
   "metadata": {
    "collapsed": true
   },
   "outputs": [],
   "source": []
  }
 ],
 "metadata": {
  "kernelspec": {
   "display_name": "Python 3",
   "language": "python",
   "name": "python3"
  },
  "language_info": {
   "codemirror_mode": {
    "name": "ipython",
    "version": 3
   },
   "file_extension": ".py",
   "mimetype": "text/x-python",
   "name": "python",
   "nbconvert_exporter": "python",
   "pygments_lexer": "ipython3",
   "version": "3.5.3"
  }
 },
 "nbformat": 4,
 "nbformat_minor": 0
}
